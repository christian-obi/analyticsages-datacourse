{
 "cells": [
  {
   "cell_type": "code",
   "execution_count": null,
   "id": "bfe6f5a1",
   "metadata": {},
   "outputs": [],
   "source": []
  },
  {
   "cell_type": "code",
   "execution_count": null,
   "id": "66b0bbd1",
   "metadata": {},
   "outputs": [],
   "source": []
  },
  {
   "cell_type": "code",
   "execution_count": null,
   "id": "4a1fa4f6",
   "metadata": {},
   "outputs": [],
   "source": []
  },
  {
   "cell_type": "markdown",
   "id": "7c8588e9",
   "metadata": {},
   "source": [
    "#### Third Party Module\n",
    "\n",
    "examples\n",
    "- pandas\n",
    "- web3\n",
    "- tweepy"
   ]
  },
  {
   "cell_type": "code",
   "execution_count": null,
   "id": "10defaf9",
   "metadata": {},
   "outputs": [],
   "source": [
    "import pandas as pd\n",
    "import numpy as np\n",
    "import web3"
   ]
  },
  {
   "cell_type": "markdown",
   "id": "952dc4ac",
   "metadata": {},
   "source": [
    "### Custom Modules\n",
    "\n",
    "save your script with .py extension eg. learn.py"
   ]
  }
 ],
 "metadata": {
  "language_info": {
   "name": "python"
  }
 },
 "nbformat": 4,
 "nbformat_minor": 5
}

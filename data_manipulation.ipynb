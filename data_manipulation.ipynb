{
 "cells": [
  {
   "cell_type": "markdown",
   "id": "89455701",
   "metadata": {},
   "source": []
  },
  {
   "cell_type": "code",
   "execution_count": 1,
   "id": "36f9f0c8",
   "metadata": {},
   "outputs": [],
   "source": [
    "import pandas as pd\n",
    "\n"
   ]
  },
  {
   "cell_type": "markdown",
   "id": "9a0c467e",
   "metadata": {},
   "source": []
  },
  {
   "cell_type": "code",
   "execution_count": 2,
   "id": "c4e27373",
   "metadata": {},
   "outputs": [
    {
     "name": "stdout",
     "output_type": "stream",
     "text": [
      "       Coin     Price  Volume\n",
      "0   Bitcoin  45000.00   15000\n",
      "1  Ethereum   3000.00    8000\n",
      "2    Ripple      0.85  200000\n",
      "3  Litecoin    120.00   50000\n"
     ]
    }
   ],
   "source": [
    "# create a dictionary with some data\n",
    "data = {\n",
    "    'Coin':['Bitcoin', 'Ethereum', 'Ripple', 'Litecoin'],\n",
    "    'Price':[45000, 3000, 0.85, 120],\n",
    "    'Volume':[15000, 8000, 200000, 50000],\n",
    "}\n",
    "\n",
    "df = pd.DataFrame(data)\n",
    "print(df)"
   ]
  },
  {
   "cell_type": "markdown",
   "id": "b27620d7",
   "metadata": {},
   "source": [
    "#### Explore Data"
   ]
  },
  {
   "cell_type": "markdown",
   "id": "fa24ec5d",
   "metadata": {},
   "source": [
    "##### get basic info"
   ]
  },
  {
   "cell_type": "code",
   "execution_count": 3,
   "id": "0a8d8c50",
   "metadata": {},
   "outputs": [
    {
     "data": {
      "text/html": [
       "<div>\n",
       "<style scoped>\n",
       "    .dataframe tbody tr th:only-of-type {\n",
       "        vertical-align: middle;\n",
       "    }\n",
       "\n",
       "    .dataframe tbody tr th {\n",
       "        vertical-align: top;\n",
       "    }\n",
       "\n",
       "    .dataframe thead th {\n",
       "        text-align: right;\n",
       "    }\n",
       "</style>\n",
       "<table border=\"1\" class=\"dataframe\">\n",
       "  <thead>\n",
       "    <tr style=\"text-align: right;\">\n",
       "      <th></th>\n",
       "      <th>Coin</th>\n",
       "      <th>Price</th>\n",
       "      <th>Volume</th>\n",
       "    </tr>\n",
       "  </thead>\n",
       "  <tbody>\n",
       "    <tr>\n",
       "      <th>0</th>\n",
       "      <td>Bitcoin</td>\n",
       "      <td>45000.00</td>\n",
       "      <td>15000</td>\n",
       "    </tr>\n",
       "    <tr>\n",
       "      <th>1</th>\n",
       "      <td>Ethereum</td>\n",
       "      <td>3000.00</td>\n",
       "      <td>8000</td>\n",
       "    </tr>\n",
       "    <tr>\n",
       "      <th>2</th>\n",
       "      <td>Ripple</td>\n",
       "      <td>0.85</td>\n",
       "      <td>200000</td>\n",
       "    </tr>\n",
       "    <tr>\n",
       "      <th>3</th>\n",
       "      <td>Litecoin</td>\n",
       "      <td>120.00</td>\n",
       "      <td>50000</td>\n",
       "    </tr>\n",
       "  </tbody>\n",
       "</table>\n",
       "</div>"
      ],
      "text/plain": [
       "       Coin     Price  Volume\n",
       "0   Bitcoin  45000.00   15000\n",
       "1  Ethereum   3000.00    8000\n",
       "2    Ripple      0.85  200000\n",
       "3  Litecoin    120.00   50000"
      ]
     },
     "execution_count": 3,
     "metadata": {},
     "output_type": "execute_result"
    }
   ],
   "source": [
    "df"
   ]
  },
  {
   "cell_type": "code",
   "execution_count": 4,
   "id": "6f63740e",
   "metadata": {},
   "outputs": [
    {
     "name": "stdout",
     "output_type": "stream",
     "text": [
      "       Coin    Price  Volume\n",
      "0   Bitcoin  45000.0   15000\n",
      "1  Ethereum   3000.0    8000\n"
     ]
    }
   ],
   "source": [
    "print(df.head(2))"
   ]
  },
  {
   "cell_type": "code",
   "execution_count": 5,
   "id": "474aa56f",
   "metadata": {},
   "outputs": [
    {
     "name": "stdout",
     "output_type": "stream",
     "text": [
      "       Coin   Price  Volume\n",
      "2    Ripple    0.85  200000\n",
      "3  Litecoin  120.00   50000\n"
     ]
    }
   ],
   "source": [
    "print(df.tail(2))"
   ]
  },
  {
   "cell_type": "code",
   "execution_count": 6,
   "id": "698d38e0",
   "metadata": {},
   "outputs": [
    {
     "data": {
      "text/html": [
       "<div>\n",
       "<style scoped>\n",
       "    .dataframe tbody tr th:only-of-type {\n",
       "        vertical-align: middle;\n",
       "    }\n",
       "\n",
       "    .dataframe tbody tr th {\n",
       "        vertical-align: top;\n",
       "    }\n",
       "\n",
       "    .dataframe thead th {\n",
       "        text-align: right;\n",
       "    }\n",
       "</style>\n",
       "<table border=\"1\" class=\"dataframe\">\n",
       "  <thead>\n",
       "    <tr style=\"text-align: right;\">\n",
       "      <th></th>\n",
       "      <th>Coin</th>\n",
       "      <th>Price</th>\n",
       "      <th>Volume</th>\n",
       "    </tr>\n",
       "  </thead>\n",
       "  <tbody>\n",
       "    <tr>\n",
       "      <th>0</th>\n",
       "      <td>Bitcoin</td>\n",
       "      <td>45000.00</td>\n",
       "      <td>15000</td>\n",
       "    </tr>\n",
       "    <tr>\n",
       "      <th>1</th>\n",
       "      <td>Ethereum</td>\n",
       "      <td>3000.00</td>\n",
       "      <td>8000</td>\n",
       "    </tr>\n",
       "    <tr>\n",
       "      <th>2</th>\n",
       "      <td>Ripple</td>\n",
       "      <td>0.85</td>\n",
       "      <td>200000</td>\n",
       "    </tr>\n",
       "  </tbody>\n",
       "</table>\n",
       "</div>"
      ],
      "text/plain": [
       "       Coin     Price  Volume\n",
       "0   Bitcoin  45000.00   15000\n",
       "1  Ethereum   3000.00    8000\n",
       "2    Ripple      0.85  200000"
      ]
     },
     "execution_count": 6,
     "metadata": {},
     "output_type": "execute_result"
    }
   ],
   "source": [
    "df.head(3)"
   ]
  },
  {
   "cell_type": "code",
   "execution_count": 7,
   "id": "dafb742e",
   "metadata": {},
   "outputs": [
    {
     "name": "stdout",
     "output_type": "stream",
     "text": [
      "<class 'pandas.core.frame.DataFrame'>\n",
      "RangeIndex: 4 entries, 0 to 3\n",
      "Data columns (total 3 columns):\n",
      " #   Column  Non-Null Count  Dtype  \n",
      "---  ------  --------------  -----  \n",
      " 0   Coin    4 non-null      object \n",
      " 1   Price   4 non-null      float64\n",
      " 2   Volume  4 non-null      int64  \n",
      "dtypes: float64(1), int64(1), object(1)\n",
      "memory usage: 228.0+ bytes\n"
     ]
    }
   ],
   "source": [
    "df.info()"
   ]
  },
  {
   "cell_type": "markdown",
   "id": "60a69fea",
   "metadata": {},
   "source": [
    "### Basic Data Manipulation"
   ]
  },
  {
   "cell_type": "code",
   "execution_count": 9,
   "id": "e2f4b5c1",
   "metadata": {},
   "outputs": [
    {
     "name": "stdout",
     "output_type": "stream",
     "text": [
      "       Coin     Price\n",
      "0   Bitcoin  45000.00\n",
      "1  Ethereum   3000.00\n",
      "2    Ripple      0.85\n",
      "3  Litecoin    120.00\n"
     ]
    }
   ],
   "source": [
    "# select a specific column\n",
    "\n",
    "print(df[['Coin', 'Price']])"
   ]
  },
  {
   "cell_type": "markdown",
   "id": "7a8fd30d",
   "metadata": {},
   "source": [
    "#### Filter Rows"
   ]
  },
  {
   "cell_type": "code",
   "execution_count": 11,
   "id": "b7b7f282",
   "metadata": {},
   "outputs": [
    {
     "data": {
      "text/html": [
       "<div>\n",
       "<style scoped>\n",
       "    .dataframe tbody tr th:only-of-type {\n",
       "        vertical-align: middle;\n",
       "    }\n",
       "\n",
       "    .dataframe tbody tr th {\n",
       "        vertical-align: top;\n",
       "    }\n",
       "\n",
       "    .dataframe thead th {\n",
       "        text-align: right;\n",
       "    }\n",
       "</style>\n",
       "<table border=\"1\" class=\"dataframe\">\n",
       "  <thead>\n",
       "    <tr style=\"text-align: right;\">\n",
       "      <th></th>\n",
       "      <th>Coin</th>\n",
       "      <th>Price</th>\n",
       "      <th>Volume</th>\n",
       "    </tr>\n",
       "  </thead>\n",
       "  <tbody>\n",
       "    <tr>\n",
       "      <th>0</th>\n",
       "      <td>Bitcoin</td>\n",
       "      <td>45000.0</td>\n",
       "      <td>15000</td>\n",
       "    </tr>\n",
       "    <tr>\n",
       "      <th>1</th>\n",
       "      <td>Ethereum</td>\n",
       "      <td>3000.0</td>\n",
       "      <td>8000</td>\n",
       "    </tr>\n",
       "  </tbody>\n",
       "</table>\n",
       "</div>"
      ],
      "text/plain": [
       "       Coin    Price  Volume\n",
       "0   Bitcoin  45000.0   15000\n",
       "1  Ethereum   3000.0    8000"
      ]
     },
     "execution_count": 11,
     "metadata": {},
     "output_type": "execute_result"
    }
   ],
   "source": [
    "df[df['Price'] > 200]"
   ]
  },
  {
   "cell_type": "markdown",
   "id": "178ccba1",
   "metadata": {},
   "source": [
    "#### SOrting Data\n",
    "\n",
    "Sort by a column in asc or desc order"
   ]
  },
  {
   "cell_type": "code",
   "execution_count": 13,
   "id": "44400959",
   "metadata": {},
   "outputs": [
    {
     "data": {
      "text/html": [
       "<div>\n",
       "<style scoped>\n",
       "    .dataframe tbody tr th:only-of-type {\n",
       "        vertical-align: middle;\n",
       "    }\n",
       "\n",
       "    .dataframe tbody tr th {\n",
       "        vertical-align: top;\n",
       "    }\n",
       "\n",
       "    .dataframe thead th {\n",
       "        text-align: right;\n",
       "    }\n",
       "</style>\n",
       "<table border=\"1\" class=\"dataframe\">\n",
       "  <thead>\n",
       "    <tr style=\"text-align: right;\">\n",
       "      <th></th>\n",
       "      <th>Coin</th>\n",
       "      <th>Price</th>\n",
       "      <th>Volume</th>\n",
       "    </tr>\n",
       "  </thead>\n",
       "  <tbody>\n",
       "    <tr>\n",
       "      <th>1</th>\n",
       "      <td>Ethereum</td>\n",
       "      <td>3000.00</td>\n",
       "      <td>8000</td>\n",
       "    </tr>\n",
       "    <tr>\n",
       "      <th>0</th>\n",
       "      <td>Bitcoin</td>\n",
       "      <td>45000.00</td>\n",
       "      <td>15000</td>\n",
       "    </tr>\n",
       "    <tr>\n",
       "      <th>3</th>\n",
       "      <td>Litecoin</td>\n",
       "      <td>120.00</td>\n",
       "      <td>50000</td>\n",
       "    </tr>\n",
       "    <tr>\n",
       "      <th>2</th>\n",
       "      <td>Ripple</td>\n",
       "      <td>0.85</td>\n",
       "      <td>200000</td>\n",
       "    </tr>\n",
       "  </tbody>\n",
       "</table>\n",
       "</div>"
      ],
      "text/plain": [
       "       Coin     Price  Volume\n",
       "1  Ethereum   3000.00    8000\n",
       "0   Bitcoin  45000.00   15000\n",
       "3  Litecoin    120.00   50000\n",
       "2    Ripple      0.85  200000"
      ]
     },
     "execution_count": 13,
     "metadata": {},
     "output_type": "execute_result"
    }
   ],
   "source": [
    "df.sort_values('Volume')"
   ]
  },
  {
   "cell_type": "code",
   "execution_count": 14,
   "id": "2c16d667",
   "metadata": {},
   "outputs": [
    {
     "data": {
      "text/html": [
       "<div>\n",
       "<style scoped>\n",
       "    .dataframe tbody tr th:only-of-type {\n",
       "        vertical-align: middle;\n",
       "    }\n",
       "\n",
       "    .dataframe tbody tr th {\n",
       "        vertical-align: top;\n",
       "    }\n",
       "\n",
       "    .dataframe thead th {\n",
       "        text-align: right;\n",
       "    }\n",
       "</style>\n",
       "<table border=\"1\" class=\"dataframe\">\n",
       "  <thead>\n",
       "    <tr style=\"text-align: right;\">\n",
       "      <th></th>\n",
       "      <th>Coin</th>\n",
       "      <th>Price</th>\n",
       "      <th>Volume</th>\n",
       "    </tr>\n",
       "  </thead>\n",
       "  <tbody>\n",
       "    <tr>\n",
       "      <th>0</th>\n",
       "      <td>Bitcoin</td>\n",
       "      <td>45000.00</td>\n",
       "      <td>15000</td>\n",
       "    </tr>\n",
       "    <tr>\n",
       "      <th>1</th>\n",
       "      <td>Ethereum</td>\n",
       "      <td>3000.00</td>\n",
       "      <td>8000</td>\n",
       "    </tr>\n",
       "    <tr>\n",
       "      <th>3</th>\n",
       "      <td>Litecoin</td>\n",
       "      <td>120.00</td>\n",
       "      <td>50000</td>\n",
       "    </tr>\n",
       "    <tr>\n",
       "      <th>2</th>\n",
       "      <td>Ripple</td>\n",
       "      <td>0.85</td>\n",
       "      <td>200000</td>\n",
       "    </tr>\n",
       "  </tbody>\n",
       "</table>\n",
       "</div>"
      ],
      "text/plain": [
       "       Coin     Price  Volume\n",
       "0   Bitcoin  45000.00   15000\n",
       "1  Ethereum   3000.00    8000\n",
       "3  Litecoin    120.00   50000\n",
       "2    Ripple      0.85  200000"
      ]
     },
     "execution_count": 14,
     "metadata": {},
     "output_type": "execute_result"
    }
   ],
   "source": [
    "df.sort_values('Price', ascending= False)"
   ]
  },
  {
   "cell_type": "markdown",
   "id": "3219cd99",
   "metadata": {},
   "source": [
    "#### Add new column"
   ]
  },
  {
   "cell_type": "code",
   "execution_count": 15,
   "id": "955bb002",
   "metadata": {},
   "outputs": [],
   "source": [
    "df['Price_after_2Pct'] =  df['Price'] * 1.02"
   ]
  },
  {
   "cell_type": "code",
   "execution_count": 16,
   "id": "d8724cf1",
   "metadata": {},
   "outputs": [
    {
     "data": {
      "text/html": [
       "<div>\n",
       "<style scoped>\n",
       "    .dataframe tbody tr th:only-of-type {\n",
       "        vertical-align: middle;\n",
       "    }\n",
       "\n",
       "    .dataframe tbody tr th {\n",
       "        vertical-align: top;\n",
       "    }\n",
       "\n",
       "    .dataframe thead th {\n",
       "        text-align: right;\n",
       "    }\n",
       "</style>\n",
       "<table border=\"1\" class=\"dataframe\">\n",
       "  <thead>\n",
       "    <tr style=\"text-align: right;\">\n",
       "      <th></th>\n",
       "      <th>Coin</th>\n",
       "      <th>Price</th>\n",
       "      <th>Volume</th>\n",
       "      <th>Price_after_2Pct</th>\n",
       "    </tr>\n",
       "  </thead>\n",
       "  <tbody>\n",
       "    <tr>\n",
       "      <th>0</th>\n",
       "      <td>Bitcoin</td>\n",
       "      <td>45000.00</td>\n",
       "      <td>15000</td>\n",
       "      <td>45900.000</td>\n",
       "    </tr>\n",
       "    <tr>\n",
       "      <th>1</th>\n",
       "      <td>Ethereum</td>\n",
       "      <td>3000.00</td>\n",
       "      <td>8000</td>\n",
       "      <td>3060.000</td>\n",
       "    </tr>\n",
       "    <tr>\n",
       "      <th>2</th>\n",
       "      <td>Ripple</td>\n",
       "      <td>0.85</td>\n",
       "      <td>200000</td>\n",
       "      <td>0.867</td>\n",
       "    </tr>\n",
       "    <tr>\n",
       "      <th>3</th>\n",
       "      <td>Litecoin</td>\n",
       "      <td>120.00</td>\n",
       "      <td>50000</td>\n",
       "      <td>122.400</td>\n",
       "    </tr>\n",
       "  </tbody>\n",
       "</table>\n",
       "</div>"
      ],
      "text/plain": [
       "       Coin     Price  Volume  Price_after_2Pct\n",
       "0   Bitcoin  45000.00   15000         45900.000\n",
       "1  Ethereum   3000.00    8000          3060.000\n",
       "2    Ripple      0.85  200000             0.867\n",
       "3  Litecoin    120.00   50000           122.400"
      ]
     },
     "execution_count": 16,
     "metadata": {},
     "output_type": "execute_result"
    }
   ],
   "source": [
    "df"
   ]
  },
  {
   "cell_type": "code",
   "execution_count": 17,
   "id": "b1107980",
   "metadata": {},
   "outputs": [
    {
     "data": {
      "text/html": [
       "<div>\n",
       "<style scoped>\n",
       "    .dataframe tbody tr th:only-of-type {\n",
       "        vertical-align: middle;\n",
       "    }\n",
       "\n",
       "    .dataframe tbody tr th {\n",
       "        vertical-align: top;\n",
       "    }\n",
       "\n",
       "    .dataframe thead th {\n",
       "        text-align: right;\n",
       "    }\n",
       "</style>\n",
       "<table border=\"1\" class=\"dataframe\">\n",
       "  <thead>\n",
       "    <tr style=\"text-align: right;\">\n",
       "      <th></th>\n",
       "      <th>Price</th>\n",
       "      <th>Volume</th>\n",
       "      <th>Price_after_2Pct</th>\n",
       "    </tr>\n",
       "  </thead>\n",
       "  <tbody>\n",
       "    <tr>\n",
       "      <th>count</th>\n",
       "      <td>4.000000</td>\n",
       "      <td>4.000000</td>\n",
       "      <td>4.000000</td>\n",
       "    </tr>\n",
       "    <tr>\n",
       "      <th>mean</th>\n",
       "      <td>12030.212500</td>\n",
       "      <td>68250.000000</td>\n",
       "      <td>12270.816750</td>\n",
       "    </tr>\n",
       "    <tr>\n",
       "      <th>std</th>\n",
       "      <td>22023.550649</td>\n",
       "      <td>89734.330108</td>\n",
       "      <td>22464.021662</td>\n",
       "    </tr>\n",
       "    <tr>\n",
       "      <th>min</th>\n",
       "      <td>0.850000</td>\n",
       "      <td>8000.000000</td>\n",
       "      <td>0.867000</td>\n",
       "    </tr>\n",
       "    <tr>\n",
       "      <th>25%</th>\n",
       "      <td>90.212500</td>\n",
       "      <td>13250.000000</td>\n",
       "      <td>92.016750</td>\n",
       "    </tr>\n",
       "    <tr>\n",
       "      <th>50%</th>\n",
       "      <td>1560.000000</td>\n",
       "      <td>32500.000000</td>\n",
       "      <td>1591.200000</td>\n",
       "    </tr>\n",
       "    <tr>\n",
       "      <th>75%</th>\n",
       "      <td>13500.000000</td>\n",
       "      <td>87500.000000</td>\n",
       "      <td>13770.000000</td>\n",
       "    </tr>\n",
       "    <tr>\n",
       "      <th>max</th>\n",
       "      <td>45000.000000</td>\n",
       "      <td>200000.000000</td>\n",
       "      <td>45900.000000</td>\n",
       "    </tr>\n",
       "  </tbody>\n",
       "</table>\n",
       "</div>"
      ],
      "text/plain": [
       "              Price         Volume  Price_after_2Pct\n",
       "count      4.000000       4.000000          4.000000\n",
       "mean   12030.212500   68250.000000      12270.816750\n",
       "std    22023.550649   89734.330108      22464.021662\n",
       "min        0.850000    8000.000000          0.867000\n",
       "25%       90.212500   13250.000000         92.016750\n",
       "50%     1560.000000   32500.000000       1591.200000\n",
       "75%    13500.000000   87500.000000      13770.000000\n",
       "max    45000.000000  200000.000000      45900.000000"
      ]
     },
     "execution_count": 17,
     "metadata": {},
     "output_type": "execute_result"
    }
   ],
   "source": [
    "df.describe()"
   ]
  },
  {
   "cell_type": "code",
   "execution_count": 19,
   "id": "1841354b",
   "metadata": {},
   "outputs": [],
   "source": [
    "df.to_csv('crypto_example_data.csv', index= False)"
   ]
  },
  {
   "cell_type": "markdown",
   "id": "bff1c55d",
   "metadata": {},
   "source": [
    "## Numpy"
   ]
  },
  {
   "cell_type": "markdown",
   "id": "b0092974",
   "metadata": {},
   "source": []
  },
  {
   "cell_type": "code",
   "execution_count": 20,
   "id": "5ef5027a",
   "metadata": {},
   "outputs": [],
   "source": [
    "import numpy as np"
   ]
  },
  {
   "cell_type": "markdown",
   "id": "0eb170da",
   "metadata": {},
   "source": [
    "#### create a Numpy Array\n",
    "\n",
    "a numpy array is like a list but better optimized for maths operations"
   ]
  },
  {
   "cell_type": "code",
   "execution_count": 21,
   "id": "cf895d93",
   "metadata": {},
   "outputs": [
    {
     "data": {
      "text/plain": [
       "(4,)"
      ]
     },
     "execution_count": 21,
     "metadata": {},
     "output_type": "execute_result"
    }
   ],
   "source": [
    "prices = np.array([45000, 50000, 40000, 20000])\n",
    "prices.shape"
   ]
  },
  {
   "cell_type": "code",
   "execution_count": 25,
   "id": "4ed0c91d",
   "metadata": {},
   "outputs": [
    {
     "name": "stdout",
     "output_type": "stream",
     "text": [
      "[45000 50000 40000 20000]\n"
     ]
    }
   ],
   "source": [
    "print(prices)"
   ]
  },
  {
   "cell_type": "markdown",
   "id": "f1a6fd56",
   "metadata": {},
   "source": [
    "#### Data Type"
   ]
  },
  {
   "cell_type": "code",
   "execution_count": 26,
   "id": "549370b8",
   "metadata": {},
   "outputs": [
    {
     "data": {
      "text/plain": [
       "dtype('int64')"
      ]
     },
     "execution_count": 26,
     "metadata": {},
     "output_type": "execute_result"
    }
   ],
   "source": [
    "prices.dtype"
   ]
  },
  {
   "cell_type": "markdown",
   "id": "42c57703",
   "metadata": {},
   "source": [
    "#### Basic data manipulation"
   ]
  },
  {
   "cell_type": "code",
   "execution_count": 27,
   "id": "4b315f9d",
   "metadata": {},
   "outputs": [
    {
     "data": {
      "text/plain": [
       "array([46000, 51000, 41000, 21000])"
      ]
     },
     "execution_count": 27,
     "metadata": {},
     "output_type": "execute_result"
    }
   ],
   "source": [
    "prices_plus_1000 = prices + 1000  # Adds 1000 to all the prices in array\n",
    "\n",
    "prices_plus_1000"
   ]
  },
  {
   "cell_type": "code",
   "execution_count": 29,
   "id": "af2895c8",
   "metadata": {},
   "outputs": [
    {
     "data": {
      "text/plain": [
       "array([46920., 52020., 41820., 21420.])"
      ]
     },
     "execution_count": 29,
     "metadata": {},
     "output_type": "execute_result"
    }
   ],
   "source": [
    "# compute for 2% increase in price\n",
    "price_s = prices_plus_1000\n",
    "\n",
    "price_increase = price_s * 1.02 \n",
    "\n",
    "price_increase"
   ]
  },
  {
   "cell_type": "code",
   "execution_count": 31,
   "id": "9b102df7",
   "metadata": {},
   "outputs": [
    {
     "data": {
      "text/plain": [
       "array([51000])"
      ]
     },
     "execution_count": 31,
     "metadata": {},
     "output_type": "execute_result"
    }
   ],
   "source": [
    "# filter data\n",
    "\n",
    "higher_price = price_s [price_s > 50000]\n",
    "\n",
    "higher_price"
   ]
  },
  {
   "cell_type": "markdown",
   "id": "b13ffe07",
   "metadata": {},
   "source": [
    "### Basic statistical functions"
   ]
  },
  {
   "cell_type": "code",
   "execution_count": 32,
   "id": "de130099",
   "metadata": {},
   "outputs": [
    {
     "name": "stdout",
     "output_type": "stream",
     "text": [
      "\n",
      "Statistics for Volume: \n",
      "Mean (Average):  275000.0\n",
      "Minimum:  100000\n",
      "Maximum:  500000\n",
      "Sum:  1100000\n",
      "VOlatility:  147901.9945774904\n"
     ]
    }
   ],
   "source": [
    "volume = np.array([500000, 300000, 200000,  100000])\n",
    "\n",
    "print (\"\\nStatistics for Volume: \")\n",
    "\n",
    "print (\"Mean (Average): \", np.mean(volume)) # average volume\n",
    "\n",
    "print (\"Minimum: \", np.min(volume)) #gives minin=mum volume\n",
    "\n",
    "print (\"Maximum: \", np.max(volume)) #print max volume\n",
    "\n",
    "print (\"Sum: \", np.sum(volume)) #get the total in the array\n",
    "\n",
    "print (\"VOlatility: \", np.std(volume))"
   ]
  },
  {
   "cell_type": "markdown",
   "id": "69241ef5",
   "metadata": {},
   "source": [
    "#### Working with a 2D Array"
   ]
  },
  {
   "cell_type": "markdown",
   "id": "fe3789fe",
   "metadata": {},
   "source": []
  },
  {
   "cell_type": "code",
   "execution_count": 37,
   "id": "3423f77c",
   "metadata": {},
   "outputs": [
    {
     "name": "stdout",
     "output_type": "stream",
     "text": [
      "[[45000  5000]\n",
      " [30000 28000]\n",
      " [11998  8943]]\n"
     ]
    }
   ],
   "source": [
    "# creating a 2d array\n",
    "\n",
    "crypto_data = np.array([\n",
    "    [45000, 5000],\n",
    "    [30000, 28000],\n",
    "    [11998, 8943]\n",
    "])\n",
    "\n",
    "print(crypto_data)"
   ]
  },
  {
   "cell_type": "code",
   "execution_count": 38,
   "id": "4286d8a5",
   "metadata": {},
   "outputs": [
    {
     "data": {
      "text/plain": [
       "array([11998,  8943])"
      ]
     },
     "execution_count": 38,
     "metadata": {},
     "output_type": "execute_result"
    }
   ],
   "source": [
    "# Access Row\n",
    "\n",
    "crypto_data[2]"
   ]
  },
  {
   "cell_type": "code",
   "execution_count": 39,
   "id": "89fa833f",
   "metadata": {},
   "outputs": [
    {
     "data": {
      "text/plain": [
       "array([ 5000, 28000,  8943])"
      ]
     },
     "execution_count": 39,
     "metadata": {},
     "output_type": "execute_result"
    }
   ],
   "source": [
    "# Access column\n",
    "\n",
    "crypto_data[:, 1]"
   ]
  }
 ],
 "metadata": {
  "kernelspec": {
   "display_name": "myenv",
   "language": "python",
   "name": "python3"
  },
  "language_info": {
   "codemirror_mode": {
    "name": "ipython",
    "version": 3
   },
   "file_extension": ".py",
   "mimetype": "text/x-python",
   "name": "python",
   "nbconvert_exporter": "python",
   "pygments_lexer": "ipython3",
   "version": "3.12.3"
  }
 },
 "nbformat": 4,
 "nbformat_minor": 5
}

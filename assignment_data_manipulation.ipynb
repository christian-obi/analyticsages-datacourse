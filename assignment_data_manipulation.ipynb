{
 "cells": [
  {
   "cell_type": "markdown",
   "id": "b13f550b",
   "metadata": {},
   "source": [
    "#### Assignment on data manipulation using pandas and numpy"
   ]
  },
  {
   "cell_type": "code",
   "execution_count": 1,
   "id": "f971148f",
   "metadata": {},
   "outputs": [],
   "source": [
    "import pandas as pd\n",
    "import numpy as np"
   ]
  },
  {
   "cell_type": "markdown",
   "id": "28aa6150",
   "metadata": {},
   "source": [
    "Q1 a) load CSV data"
   ]
  },
  {
   "cell_type": "code",
   "execution_count": null,
   "id": "a9f51f46",
   "metadata": {},
   "outputs": [
    {
     "data": {
      "text/html": [
       "<div>\n",
       "<style scoped>\n",
       "    .dataframe tbody tr th:only-of-type {\n",
       "        vertical-align: middle;\n",
       "    }\n",
       "\n",
       "    .dataframe tbody tr th {\n",
       "        vertical-align: top;\n",
       "    }\n",
       "\n",
       "    .dataframe thead th {\n",
       "        text-align: right;\n",
       "    }\n",
       "</style>\n",
       "<table border=\"1\" class=\"dataframe\">\n",
       "  <thead>\n",
       "    <tr style=\"text-align: right;\">\n",
       "      <th></th>\n",
       "      <th>sender_wallet</th>\n",
       "      <th>receiver_wallet</th>\n",
       "      <th>token</th>\n",
       "      <th>amount</th>\n",
       "      <th>timestamp</th>\n",
       "      <th>gas_used</th>\n",
       "      <th>tx_fee_usd</th>\n",
       "    </tr>\n",
       "  </thead>\n",
       "  <tbody>\n",
       "    <tr>\n",
       "      <th>0</th>\n",
       "      <td>0xaed548b0ad2ad42d36a65fc9fbb7365290273735</td>\n",
       "      <td>0x6f0fa65da6805b547779f78d7ad8e2a1247cd860</td>\n",
       "      <td>UNI</td>\n",
       "      <td>234.63</td>\n",
       "      <td>2024-07-27 03:58:20</td>\n",
       "      <td>78134</td>\n",
       "      <td>3.71</td>\n",
       "    </tr>\n",
       "    <tr>\n",
       "      <th>1</th>\n",
       "      <td>0xadebdbe4ffde843c5c0942476dafed98f4081ed2</td>\n",
       "      <td>0xfab70b3d71fab174410d390a80a1377c72a41251</td>\n",
       "      <td>USDC</td>\n",
       "      <td>1505.06</td>\n",
       "      <td>2024-07-14 03:04:09</td>\n",
       "      <td>41491</td>\n",
       "      <td>9.32</td>\n",
       "    </tr>\n",
       "    <tr>\n",
       "      <th>2</th>\n",
       "      <td>0xe380d92bab460b09297a542e4b0198e2c87e43c6</td>\n",
       "      <td>0x322edf020491e29d79318e73fb976d1c4bf159e2</td>\n",
       "      <td>WBTC</td>\n",
       "      <td>658.37</td>\n",
       "      <td>2024-07-29 07:29:38</td>\n",
       "      <td>22341</td>\n",
       "      <td>2.63</td>\n",
       "    </tr>\n",
       "    <tr>\n",
       "      <th>3</th>\n",
       "      <td>0x262afa887ea89b1b66c12e70d25de9412bdf3ddb</td>\n",
       "      <td>0x8ce7e3767410f34c6db80d9bd87bb5503ae1a0e3</td>\n",
       "      <td>UNI</td>\n",
       "      <td>456.47</td>\n",
       "      <td>2024-07-20 06:26:24</td>\n",
       "      <td>65623</td>\n",
       "      <td>4.04</td>\n",
       "    </tr>\n",
       "    <tr>\n",
       "      <th>4</th>\n",
       "      <td>0x4d87bd4dc83166db001549b0f7dd10ed8172a979</td>\n",
       "      <td>0xaf6bb63813b74b9c62a370447287eb805b11c3ca</td>\n",
       "      <td>WBTC</td>\n",
       "      <td>84.81</td>\n",
       "      <td>2024-07-13 23:07:51</td>\n",
       "      <td>21338</td>\n",
       "      <td>4.60</td>\n",
       "    </tr>\n",
       "  </tbody>\n",
       "</table>\n",
       "</div>"
      ],
      "text/plain": [
       "                                sender_wallet  \\\n",
       "0  0xaed548b0ad2ad42d36a65fc9fbb7365290273735   \n",
       "1  0xadebdbe4ffde843c5c0942476dafed98f4081ed2   \n",
       "2  0xe380d92bab460b09297a542e4b0198e2c87e43c6   \n",
       "3  0x262afa887ea89b1b66c12e70d25de9412bdf3ddb   \n",
       "4  0x4d87bd4dc83166db001549b0f7dd10ed8172a979   \n",
       "\n",
       "                              receiver_wallet token   amount  \\\n",
       "0  0x6f0fa65da6805b547779f78d7ad8e2a1247cd860   UNI   234.63   \n",
       "1  0xfab70b3d71fab174410d390a80a1377c72a41251  USDC  1505.06   \n",
       "2  0x322edf020491e29d79318e73fb976d1c4bf159e2  WBTC   658.37   \n",
       "3  0x8ce7e3767410f34c6db80d9bd87bb5503ae1a0e3   UNI   456.47   \n",
       "4  0xaf6bb63813b74b9c62a370447287eb805b11c3ca  WBTC    84.81   \n",
       "\n",
       "             timestamp  gas_used  tx_fee_usd  \n",
       "0  2024-07-27 03:58:20     78134        3.71  \n",
       "1  2024-07-14 03:04:09     41491        9.32  \n",
       "2  2024-07-29 07:29:38     22341        2.63  \n",
       "3  2024-07-20 06:26:24     65623        4.04  \n",
       "4  2024-07-13 23:07:51     21338        4.60  "
      ]
     },
     "execution_count": 3,
     "metadata": {},
     "output_type": "execute_result"
    }
   ],
   "source": [
    "#Load the CSV file into a DataFrame\n",
    "df =pd.read_csv('web3_token_transfers.csv')\n",
    "\n",
    "df.head(5)"
   ]
  },
  {
   "cell_type": "markdown",
   "id": "522dc496",
   "metadata": {},
   "source": [
    "Q1 b) Parse the timestamp column as datetime using pd.to_datetime"
   ]
  },
  {
   "cell_type": "code",
   "execution_count": null,
   "id": "372c3a9a",
   "metadata": {},
   "outputs": [
    {
     "data": {
      "text/plain": [
       "0   2024-07-27 03:58:20\n",
       "1   2024-07-14 03:04:09\n",
       "2   2024-07-29 07:29:38\n",
       "3   2024-07-20 06:26:24\n",
       "4   2024-07-13 23:07:51\n",
       "Name: timestamp, dtype: datetime64[ns]"
      ]
     },
     "execution_count": 4,
     "metadata": {},
     "output_type": "execute_result"
    }
   ],
   "source": [
    "# Parses the timestamp column as datetime\n",
    "df['timestamp']= pd.to_datetime(df['timestamp'], format='%Y-%m-%d %H:%M:%S')\n",
    "\n",
    "df['timestamp'].head(5)"
   ]
  },
  {
   "cell_type": "markdown",
   "id": "80cc4c82",
   "metadata": {},
   "source": [
    "Q2 a) basic exploration- show the top 5 and bottom 5 rows"
   ]
  },
  {
   "cell_type": "code",
   "execution_count": null,
   "id": "8bd4254c",
   "metadata": {},
   "outputs": [
    {
     "data": {
      "text/html": [
       "<div>\n",
       "<style scoped>\n",
       "    .dataframe tbody tr th:only-of-type {\n",
       "        vertical-align: middle;\n",
       "    }\n",
       "\n",
       "    .dataframe tbody tr th {\n",
       "        vertical-align: top;\n",
       "    }\n",
       "\n",
       "    .dataframe thead th {\n",
       "        text-align: right;\n",
       "    }\n",
       "</style>\n",
       "<table border=\"1\" class=\"dataframe\">\n",
       "  <thead>\n",
       "    <tr style=\"text-align: right;\">\n",
       "      <th></th>\n",
       "      <th>sender_wallet</th>\n",
       "      <th>receiver_wallet</th>\n",
       "      <th>token</th>\n",
       "      <th>amount</th>\n",
       "      <th>timestamp</th>\n",
       "      <th>gas_used</th>\n",
       "      <th>tx_fee_usd</th>\n",
       "    </tr>\n",
       "  </thead>\n",
       "  <tbody>\n",
       "    <tr>\n",
       "      <th>0</th>\n",
       "      <td>0xaed548b0ad2ad42d36a65fc9fbb7365290273735</td>\n",
       "      <td>0x6f0fa65da6805b547779f78d7ad8e2a1247cd860</td>\n",
       "      <td>UNI</td>\n",
       "      <td>234.63</td>\n",
       "      <td>2024-07-27 03:58:20</td>\n",
       "      <td>78134</td>\n",
       "      <td>3.71</td>\n",
       "    </tr>\n",
       "    <tr>\n",
       "      <th>1</th>\n",
       "      <td>0xadebdbe4ffde843c5c0942476dafed98f4081ed2</td>\n",
       "      <td>0xfab70b3d71fab174410d390a80a1377c72a41251</td>\n",
       "      <td>USDC</td>\n",
       "      <td>1505.06</td>\n",
       "      <td>2024-07-14 03:04:09</td>\n",
       "      <td>41491</td>\n",
       "      <td>9.32</td>\n",
       "    </tr>\n",
       "    <tr>\n",
       "      <th>2</th>\n",
       "      <td>0xe380d92bab460b09297a542e4b0198e2c87e43c6</td>\n",
       "      <td>0x322edf020491e29d79318e73fb976d1c4bf159e2</td>\n",
       "      <td>WBTC</td>\n",
       "      <td>658.37</td>\n",
       "      <td>2024-07-29 07:29:38</td>\n",
       "      <td>22341</td>\n",
       "      <td>2.63</td>\n",
       "    </tr>\n",
       "    <tr>\n",
       "      <th>3</th>\n",
       "      <td>0x262afa887ea89b1b66c12e70d25de9412bdf3ddb</td>\n",
       "      <td>0x8ce7e3767410f34c6db80d9bd87bb5503ae1a0e3</td>\n",
       "      <td>UNI</td>\n",
       "      <td>456.47</td>\n",
       "      <td>2024-07-20 06:26:24</td>\n",
       "      <td>65623</td>\n",
       "      <td>4.04</td>\n",
       "    </tr>\n",
       "    <tr>\n",
       "      <th>4</th>\n",
       "      <td>0x4d87bd4dc83166db001549b0f7dd10ed8172a979</td>\n",
       "      <td>0xaf6bb63813b74b9c62a370447287eb805b11c3ca</td>\n",
       "      <td>WBTC</td>\n",
       "      <td>84.81</td>\n",
       "      <td>2024-07-13 23:07:51</td>\n",
       "      <td>21338</td>\n",
       "      <td>4.60</td>\n",
       "    </tr>\n",
       "  </tbody>\n",
       "</table>\n",
       "</div>"
      ],
      "text/plain": [
       "                                sender_wallet  \\\n",
       "0  0xaed548b0ad2ad42d36a65fc9fbb7365290273735   \n",
       "1  0xadebdbe4ffde843c5c0942476dafed98f4081ed2   \n",
       "2  0xe380d92bab460b09297a542e4b0198e2c87e43c6   \n",
       "3  0x262afa887ea89b1b66c12e70d25de9412bdf3ddb   \n",
       "4  0x4d87bd4dc83166db001549b0f7dd10ed8172a979   \n",
       "\n",
       "                              receiver_wallet token   amount  \\\n",
       "0  0x6f0fa65da6805b547779f78d7ad8e2a1247cd860   UNI   234.63   \n",
       "1  0xfab70b3d71fab174410d390a80a1377c72a41251  USDC  1505.06   \n",
       "2  0x322edf020491e29d79318e73fb976d1c4bf159e2  WBTC   658.37   \n",
       "3  0x8ce7e3767410f34c6db80d9bd87bb5503ae1a0e3   UNI   456.47   \n",
       "4  0xaf6bb63813b74b9c62a370447287eb805b11c3ca  WBTC    84.81   \n",
       "\n",
       "            timestamp  gas_used  tx_fee_usd  \n",
       "0 2024-07-27 03:58:20     78134        3.71  \n",
       "1 2024-07-14 03:04:09     41491        9.32  \n",
       "2 2024-07-29 07:29:38     22341        2.63  \n",
       "3 2024-07-20 06:26:24     65623        4.04  \n",
       "4 2024-07-13 23:07:51     21338        4.60  "
      ]
     },
     "execution_count": 8,
     "metadata": {},
     "output_type": "execute_result"
    }
   ],
   "source": [
    "# gets the first 5 rows in the DataFrame\n",
    "df.head(5)\n",
    "\n"
   ]
  },
  {
   "cell_type": "code",
   "execution_count": null,
   "id": "3cbce1c2",
   "metadata": {},
   "outputs": [
    {
     "data": {
      "text/html": [
       "<div>\n",
       "<style scoped>\n",
       "    .dataframe tbody tr th:only-of-type {\n",
       "        vertical-align: middle;\n",
       "    }\n",
       "\n",
       "    .dataframe tbody tr th {\n",
       "        vertical-align: top;\n",
       "    }\n",
       "\n",
       "    .dataframe thead th {\n",
       "        text-align: right;\n",
       "    }\n",
       "</style>\n",
       "<table border=\"1\" class=\"dataframe\">\n",
       "  <thead>\n",
       "    <tr style=\"text-align: right;\">\n",
       "      <th></th>\n",
       "      <th>sender_wallet</th>\n",
       "      <th>receiver_wallet</th>\n",
       "      <th>token</th>\n",
       "      <th>amount</th>\n",
       "      <th>timestamp</th>\n",
       "      <th>gas_used</th>\n",
       "      <th>tx_fee_usd</th>\n",
       "    </tr>\n",
       "  </thead>\n",
       "  <tbody>\n",
       "    <tr>\n",
       "      <th>995</th>\n",
       "      <td>0x7d321f54337d3b2fe762d2f98cc65a08b33c8167</td>\n",
       "      <td>0x12b225c93d09fbfee50834d34bb976ba2ab744a4</td>\n",
       "      <td>USDC</td>\n",
       "      <td>48.03</td>\n",
       "      <td>2024-07-19 20:23:42</td>\n",
       "      <td>30503</td>\n",
       "      <td>1.63</td>\n",
       "    </tr>\n",
       "    <tr>\n",
       "      <th>996</th>\n",
       "      <td>0x99ffd9b436b447f0b75704c666c2e3387468aabc</td>\n",
       "      <td>0xad14eea793cb71aeec4914db1cd51b955768446a</td>\n",
       "      <td>USDC</td>\n",
       "      <td>1246.35</td>\n",
       "      <td>2024-07-06 01:06:21</td>\n",
       "      <td>81703</td>\n",
       "      <td>3.24</td>\n",
       "    </tr>\n",
       "    <tr>\n",
       "      <th>997</th>\n",
       "      <td>0xf2476d3a88703c2484581466c841db8ce62c411d</td>\n",
       "      <td>0x8233219c96b703195211f975be60343e130b66a5</td>\n",
       "      <td>WBTC</td>\n",
       "      <td>73.57</td>\n",
       "      <td>2024-07-29 12:05:32</td>\n",
       "      <td>85379</td>\n",
       "      <td>4.28</td>\n",
       "    </tr>\n",
       "    <tr>\n",
       "      <th>998</th>\n",
       "      <td>0xb7e4e6b50e93960442a38761471840f4a48cb869</td>\n",
       "      <td>0x199d63a67615ec83d45f91010f6c8206f711b2be</td>\n",
       "      <td>WBTC</td>\n",
       "      <td>1500.25</td>\n",
       "      <td>2024-07-27 03:40:11</td>\n",
       "      <td>78866</td>\n",
       "      <td>9.24</td>\n",
       "    </tr>\n",
       "    <tr>\n",
       "      <th>999</th>\n",
       "      <td>0xb21913e7f083654695aeeab90f1510468f1dc41e</td>\n",
       "      <td>0x9bca5940e7d53f22ca22245954f66ece9ab16af8</td>\n",
       "      <td>USDC</td>\n",
       "      <td>295.30</td>\n",
       "      <td>2024-07-21 23:44:32</td>\n",
       "      <td>37905</td>\n",
       "      <td>9.94</td>\n",
       "    </tr>\n",
       "  </tbody>\n",
       "</table>\n",
       "</div>"
      ],
      "text/plain": [
       "                                  sender_wallet  \\\n",
       "995  0x7d321f54337d3b2fe762d2f98cc65a08b33c8167   \n",
       "996  0x99ffd9b436b447f0b75704c666c2e3387468aabc   \n",
       "997  0xf2476d3a88703c2484581466c841db8ce62c411d   \n",
       "998  0xb7e4e6b50e93960442a38761471840f4a48cb869   \n",
       "999  0xb21913e7f083654695aeeab90f1510468f1dc41e   \n",
       "\n",
       "                                receiver_wallet token   amount  \\\n",
       "995  0x12b225c93d09fbfee50834d34bb976ba2ab744a4  USDC    48.03   \n",
       "996  0xad14eea793cb71aeec4914db1cd51b955768446a  USDC  1246.35   \n",
       "997  0x8233219c96b703195211f975be60343e130b66a5  WBTC    73.57   \n",
       "998  0x199d63a67615ec83d45f91010f6c8206f711b2be  WBTC  1500.25   \n",
       "999  0x9bca5940e7d53f22ca22245954f66ece9ab16af8  USDC   295.30   \n",
       "\n",
       "              timestamp  gas_used  tx_fee_usd  \n",
       "995 2024-07-19 20:23:42     30503        1.63  \n",
       "996 2024-07-06 01:06:21     81703        3.24  \n",
       "997 2024-07-29 12:05:32     85379        4.28  \n",
       "998 2024-07-27 03:40:11     78866        9.24  \n",
       "999 2024-07-21 23:44:32     37905        9.94  "
      ]
     },
     "execution_count": 10,
     "metadata": {},
     "output_type": "execute_result"
    }
   ],
   "source": [
    "# gets the last 5 rows in the DataFrame\n",
    "df.tail(5)"
   ]
  },
  {
   "cell_type": "markdown",
   "id": "ac115d7c",
   "metadata": {},
   "source": [
    "Q2 b) Count the number of unique wallets (senders and receivers).\n"
   ]
  },
  {
   "cell_type": "code",
   "execution_count": null,
   "id": "0bf337ac",
   "metadata": {},
   "outputs": [
    {
     "name": "stdout",
     "output_type": "stream",
     "text": [
      "Number of unique sender wallets: 1000\n"
     ]
    }
   ],
   "source": [
    "#count the unique sendaer wallates\n",
    "unique_senders_count = df['sender_wallet'].nunique()\n",
    "\n",
    "print(f\"Number of unique sender wallets: {unique_senders_count}\")"
   ]
  },
  {
   "cell_type": "code",
   "execution_count": 13,
   "id": "66f79257",
   "metadata": {},
   "outputs": [
    {
     "name": "stdout",
     "output_type": "stream",
     "text": [
      "Number of receiver wallets: 1000\n"
     ]
    }
   ],
   "source": [
    "unique_receivers_count = df['receiver_wallet'].nunique()\n",
    "\n",
    "print(f\"Number of receiver wallets: {unique_receivers_count}\")"
   ]
  },
  {
   "cell_type": "markdown",
   "id": "e06216cb",
   "metadata": {},
   "source": [
    "Q2 c) Count how many transactions each token has."
   ]
  },
  {
   "cell_type": "code",
   "execution_count": 14,
   "id": "b1ed298c",
   "metadata": {},
   "outputs": [
    {
     "name": "stdout",
     "output_type": "stream",
     "text": [
      "Number of tx for each token: token\n",
      "WBTC    214\n",
      "ETH     203\n",
      "USDC    200\n",
      "UNI     194\n",
      "DAI     189\n",
      "Name: count, dtype: int64\n"
     ]
    }
   ],
   "source": [
    "#value_counts counts how many time a particular data appears in a column\n",
    "unique_tokens_tx_count = df['token'].value_counts()\n",
    "\n",
    "print(f\"Number of tx for each token: {unique_tokens_tx_count}\")"
   ]
  },
  {
   "cell_type": "markdown",
   "id": "9ec6f3d5",
   "metadata": {},
   "source": [
    "Q3 wallet analysis - compute total amount sent and received by each wallet"
   ]
  },
  {
   "cell_type": "code",
   "execution_count": 15,
   "id": "4f772372",
   "metadata": {},
   "outputs": [
    {
     "data": {
      "text/html": [
       "<div>\n",
       "<style scoped>\n",
       "    .dataframe tbody tr th:only-of-type {\n",
       "        vertical-align: middle;\n",
       "    }\n",
       "\n",
       "    .dataframe tbody tr th {\n",
       "        vertical-align: top;\n",
       "    }\n",
       "\n",
       "    .dataframe thead th {\n",
       "        text-align: right;\n",
       "    }\n",
       "</style>\n",
       "<table border=\"1\" class=\"dataframe\">\n",
       "  <thead>\n",
       "    <tr style=\"text-align: right;\">\n",
       "      <th></th>\n",
       "      <th>wallet</th>\n",
       "      <th>total_sent</th>\n",
       "    </tr>\n",
       "  </thead>\n",
       "  <tbody>\n",
       "    <tr>\n",
       "      <th>0</th>\n",
       "      <td>0x0003c3872d1848ec2011e26ad7571c69370f9fd0</td>\n",
       "      <td>634.78</td>\n",
       "    </tr>\n",
       "    <tr>\n",
       "      <th>1</th>\n",
       "      <td>0x0034126c0d51266516fd65d12f3c9a67f04062fa</td>\n",
       "      <td>138.44</td>\n",
       "    </tr>\n",
       "    <tr>\n",
       "      <th>2</th>\n",
       "      <td>0x005f673297464a3a9b8657e7f9d1a19e6d62f0f7</td>\n",
       "      <td>26.53</td>\n",
       "    </tr>\n",
       "    <tr>\n",
       "      <th>3</th>\n",
       "      <td>0x00906f78509cf901863c7f6980e32877871b784e</td>\n",
       "      <td>452.03</td>\n",
       "    </tr>\n",
       "    <tr>\n",
       "      <th>4</th>\n",
       "      <td>0x00fafa59c53d3dd96f5ce0c922ea899710e33c56</td>\n",
       "      <td>136.02</td>\n",
       "    </tr>\n",
       "  </tbody>\n",
       "</table>\n",
       "</div>"
      ],
      "text/plain": [
       "                                       wallet  total_sent\n",
       "0  0x0003c3872d1848ec2011e26ad7571c69370f9fd0      634.78\n",
       "1  0x0034126c0d51266516fd65d12f3c9a67f04062fa      138.44\n",
       "2  0x005f673297464a3a9b8657e7f9d1a19e6d62f0f7       26.53\n",
       "3  0x00906f78509cf901863c7f6980e32877871b784e      452.03\n",
       "4  0x00fafa59c53d3dd96f5ce0c922ea899710e33c56      136.02"
      ]
     },
     "execution_count": 15,
     "metadata": {},
     "output_type": "execute_result"
    }
   ],
   "source": [
    "# calls sender_wallet and amount columns, groups by sender_wallet and sums the amount\n",
    "sender_wallets = df.groupby('sender_wallet')['amount'].sum().reset_index()\n",
    "# renames the columns for clarity\n",
    "sender_wallets.columns = ['wallet', 'total_sent']\n",
    "\n",
    "sender_wallets.head(5)"
   ]
  },
  {
   "cell_type": "code",
   "execution_count": 16,
   "id": "cbc6d09b",
   "metadata": {},
   "outputs": [
    {
     "data": {
      "text/html": [
       "<div>\n",
       "<style scoped>\n",
       "    .dataframe tbody tr th:only-of-type {\n",
       "        vertical-align: middle;\n",
       "    }\n",
       "\n",
       "    .dataframe tbody tr th {\n",
       "        vertical-align: top;\n",
       "    }\n",
       "\n",
       "    .dataframe thead th {\n",
       "        text-align: right;\n",
       "    }\n",
       "</style>\n",
       "<table border=\"1\" class=\"dataframe\">\n",
       "  <thead>\n",
       "    <tr style=\"text-align: right;\">\n",
       "      <th></th>\n",
       "      <th>wallet</th>\n",
       "      <th>total_received</th>\n",
       "    </tr>\n",
       "  </thead>\n",
       "  <tbody>\n",
       "    <tr>\n",
       "      <th>0</th>\n",
       "      <td>0x010ca7452031dca3995f59dcfa5a80446f2e4c03</td>\n",
       "      <td>191.37</td>\n",
       "    </tr>\n",
       "    <tr>\n",
       "      <th>1</th>\n",
       "      <td>0x0114a8e880508bfe99f6c996096380067a1c6b7a</td>\n",
       "      <td>2884.04</td>\n",
       "    </tr>\n",
       "    <tr>\n",
       "      <th>2</th>\n",
       "      <td>0x0147c9752252629711318f835142d3153726dbea</td>\n",
       "      <td>501.85</td>\n",
       "    </tr>\n",
       "    <tr>\n",
       "      <th>3</th>\n",
       "      <td>0x01a4c2ac00ef039936197a9bfa3d1bb99a75d923</td>\n",
       "      <td>60.27</td>\n",
       "    </tr>\n",
       "    <tr>\n",
       "      <th>4</th>\n",
       "      <td>0x01a5453728aaf20873b9ac9b236cdb28f08cb285</td>\n",
       "      <td>47.86</td>\n",
       "    </tr>\n",
       "  </tbody>\n",
       "</table>\n",
       "</div>"
      ],
      "text/plain": [
       "                                       wallet  total_received\n",
       "0  0x010ca7452031dca3995f59dcfa5a80446f2e4c03          191.37\n",
       "1  0x0114a8e880508bfe99f6c996096380067a1c6b7a         2884.04\n",
       "2  0x0147c9752252629711318f835142d3153726dbea          501.85\n",
       "3  0x01a4c2ac00ef039936197a9bfa3d1bb99a75d923           60.27\n",
       "4  0x01a5453728aaf20873b9ac9b236cdb28f08cb285           47.86"
      ]
     },
     "execution_count": 16,
     "metadata": {},
     "output_type": "execute_result"
    }
   ],
   "source": [
    "#calls receiver_wallet and amount columns, groups by receiver_wallet and sums the amount\n",
    "receiver_wallets = df.groupby('receiver_wallet')['amount'].sum().reset_index()\n",
    "# renames the columns for clarity\n",
    "receiver_wallets.columns = ['wallet', 'total_received']\n",
    "\n",
    "receiver_wallets.head(5)\n"
   ]
  },
  {
   "cell_type": "code",
   "execution_count": 17,
   "id": "98dce9ab",
   "metadata": {},
   "outputs": [
    {
     "data": {
      "text/html": [
       "<div>\n",
       "<style scoped>\n",
       "    .dataframe tbody tr th:only-of-type {\n",
       "        vertical-align: middle;\n",
       "    }\n",
       "\n",
       "    .dataframe tbody tr th {\n",
       "        vertical-align: top;\n",
       "    }\n",
       "\n",
       "    .dataframe thead th {\n",
       "        text-align: right;\n",
       "    }\n",
       "</style>\n",
       "<table border=\"1\" class=\"dataframe\">\n",
       "  <thead>\n",
       "    <tr style=\"text-align: right;\">\n",
       "      <th></th>\n",
       "      <th>wallet</th>\n",
       "      <th>total_sent</th>\n",
       "      <th>total_received</th>\n",
       "    </tr>\n",
       "  </thead>\n",
       "  <tbody>\n",
       "    <tr>\n",
       "      <th>0</th>\n",
       "      <td>0x0003c3872d1848ec2011e26ad7571c69370f9fd0</td>\n",
       "      <td>634.78</td>\n",
       "      <td>0.0</td>\n",
       "    </tr>\n",
       "    <tr>\n",
       "      <th>1</th>\n",
       "      <td>0x0034126c0d51266516fd65d12f3c9a67f04062fa</td>\n",
       "      <td>138.44</td>\n",
       "      <td>0.0</td>\n",
       "    </tr>\n",
       "    <tr>\n",
       "      <th>2</th>\n",
       "      <td>0x005f673297464a3a9b8657e7f9d1a19e6d62f0f7</td>\n",
       "      <td>26.53</td>\n",
       "      <td>0.0</td>\n",
       "    </tr>\n",
       "    <tr>\n",
       "      <th>3</th>\n",
       "      <td>0x00906f78509cf901863c7f6980e32877871b784e</td>\n",
       "      <td>452.03</td>\n",
       "      <td>0.0</td>\n",
       "    </tr>\n",
       "    <tr>\n",
       "      <th>4</th>\n",
       "      <td>0x00fafa59c53d3dd96f5ce0c922ea899710e33c56</td>\n",
       "      <td>136.02</td>\n",
       "      <td>0.0</td>\n",
       "    </tr>\n",
       "  </tbody>\n",
       "</table>\n",
       "</div>"
      ],
      "text/plain": [
       "                                       wallet  total_sent  total_received\n",
       "0  0x0003c3872d1848ec2011e26ad7571c69370f9fd0      634.78             0.0\n",
       "1  0x0034126c0d51266516fd65d12f3c9a67f04062fa      138.44             0.0\n",
       "2  0x005f673297464a3a9b8657e7f9d1a19e6d62f0f7       26.53             0.0\n",
       "3  0x00906f78509cf901863c7f6980e32877871b784e      452.03             0.0\n",
       "4  0x00fafa59c53d3dd96f5ce0c922ea899710e33c56      136.02             0.0"
      ]
     },
     "execution_count": 17,
     "metadata": {},
     "output_type": "execute_result"
    }
   ],
   "source": [
    "# merging both dataframes using a common column 'wallet'\n",
    "wallets_summary = pd.merge(sender_wallets, receiver_wallets, on= 'wallet', how= 'outer').fillna(0)\n",
    "wallets_summary.head(5)"
   ]
  },
  {
   "cell_type": "code",
   "execution_count": null,
   "id": "432e712b",
   "metadata": {},
   "outputs": [
    {
     "name": "stdout",
     "output_type": "stream",
     "text": [
      "<class 'pandas.core.frame.DataFrame'>\n",
      "RangeIndex: 2000 entries, 0 to 1999\n",
      "Data columns (total 3 columns):\n",
      " #   Column          Non-Null Count  Dtype  \n",
      "---  ------          --------------  -----  \n",
      " 0   wallet          2000 non-null   object \n",
      " 1   total_sent      2000 non-null   float64\n",
      " 2   total_received  2000 non-null   float64\n",
      "dtypes: float64(2), object(1)\n",
      "memory usage: 47.0+ KB\n"
     ]
    }
   ],
   "source": [
    "# checks the info about the DataFrame\n",
    "wallets_summary.info()"
   ]
  },
  {
   "cell_type": "code",
   "execution_count": null,
   "id": "788f76b3",
   "metadata": {},
   "outputs": [
    {
     "data": {
      "text/html": [
       "<div>\n",
       "<style scoped>\n",
       "    .dataframe tbody tr th:only-of-type {\n",
       "        vertical-align: middle;\n",
       "    }\n",
       "\n",
       "    .dataframe tbody tr th {\n",
       "        vertical-align: top;\n",
       "    }\n",
       "\n",
       "    .dataframe thead th {\n",
       "        text-align: right;\n",
       "    }\n",
       "</style>\n",
       "<table border=\"1\" class=\"dataframe\">\n",
       "  <thead>\n",
       "    <tr style=\"text-align: right;\">\n",
       "      <th></th>\n",
       "      <th>wallet</th>\n",
       "      <th>total_sent</th>\n",
       "      <th>total_received</th>\n",
       "    </tr>\n",
       "  </thead>\n",
       "  <tbody>\n",
       "    <tr>\n",
       "      <th>1995</th>\n",
       "      <td>0xffab6a48a594ca3dea01cbcb44673475c863b7d1</td>\n",
       "      <td>380.27</td>\n",
       "      <td>0.00</td>\n",
       "    </tr>\n",
       "    <tr>\n",
       "      <th>1996</th>\n",
       "      <td>0xffb6056e48b4eec9ef93d6fb825d7736a5e1919c</td>\n",
       "      <td>0.00</td>\n",
       "      <td>656.28</td>\n",
       "    </tr>\n",
       "    <tr>\n",
       "      <th>1997</th>\n",
       "      <td>0xffd0af93e3570caac85652b2842369c8c22befcd</td>\n",
       "      <td>23.26</td>\n",
       "      <td>0.00</td>\n",
       "    </tr>\n",
       "    <tr>\n",
       "      <th>1998</th>\n",
       "      <td>0xffd362f45a8736314fa0278a959bf14c4f4ffdfe</td>\n",
       "      <td>1298.94</td>\n",
       "      <td>0.00</td>\n",
       "    </tr>\n",
       "    <tr>\n",
       "      <th>1999</th>\n",
       "      <td>0xfff2203dcedf4f760a54ad07236a3498cbeab07b</td>\n",
       "      <td>1624.55</td>\n",
       "      <td>0.00</td>\n",
       "    </tr>\n",
       "  </tbody>\n",
       "</table>\n",
       "</div>"
      ],
      "text/plain": [
       "                                          wallet  total_sent  total_received\n",
       "1995  0xffab6a48a594ca3dea01cbcb44673475c863b7d1      380.27            0.00\n",
       "1996  0xffb6056e48b4eec9ef93d6fb825d7736a5e1919c        0.00          656.28\n",
       "1997  0xffd0af93e3570caac85652b2842369c8c22befcd       23.26            0.00\n",
       "1998  0xffd362f45a8736314fa0278a959bf14c4f4ffdfe     1298.94            0.00\n",
       "1999  0xfff2203dcedf4f760a54ad07236a3498cbeab07b     1624.55            0.00"
      ]
     },
     "execution_count": 19,
     "metadata": {},
     "output_type": "execute_result"
    }
   ],
   "source": [
    "# get bottom 5 rows\n",
    "wallets_summary.tail(5)"
   ]
  },
  {
   "cell_type": "markdown",
   "id": "d0a5cb76",
   "metadata": {},
   "source": [
    "Q3 b) Identify the top 5 wallets by total amount sent (group + sum + sort).\n"
   ]
  },
  {
   "cell_type": "code",
   "execution_count": 20,
   "id": "c24b1fe9",
   "metadata": {},
   "outputs": [
    {
     "data": {
      "text/html": [
       "<div>\n",
       "<style scoped>\n",
       "    .dataframe tbody tr th:only-of-type {\n",
       "        vertical-align: middle;\n",
       "    }\n",
       "\n",
       "    .dataframe tbody tr th {\n",
       "        vertical-align: top;\n",
       "    }\n",
       "\n",
       "    .dataframe thead th {\n",
       "        text-align: right;\n",
       "    }\n",
       "</style>\n",
       "<table border=\"1\" class=\"dataframe\">\n",
       "  <thead>\n",
       "    <tr style=\"text-align: right;\">\n",
       "      <th></th>\n",
       "      <th>wallet</th>\n",
       "      <th>total_sent</th>\n",
       "      <th>total_received</th>\n",
       "    </tr>\n",
       "  </thead>\n",
       "  <tbody>\n",
       "    <tr>\n",
       "      <th>1650</th>\n",
       "      <td>0xd538f9c05ec121d00f70a00aa58b4ea2b7339a54</td>\n",
       "      <td>4086.22</td>\n",
       "      <td>0.0</td>\n",
       "    </tr>\n",
       "    <tr>\n",
       "      <th>66</th>\n",
       "      <td>0x0a83fcafb15e96514ef61020d4c96714a42bd923</td>\n",
       "      <td>2884.04</td>\n",
       "      <td>0.0</td>\n",
       "    </tr>\n",
       "    <tr>\n",
       "      <th>1577</th>\n",
       "      <td>0xcc3f561f13db4c0a50c9f71ef693cf59eef2ba25</td>\n",
       "      <td>2847.44</td>\n",
       "      <td>0.0</td>\n",
       "    </tr>\n",
       "    <tr>\n",
       "      <th>113</th>\n",
       "      <td>0x1172060a8e20eb50ab9194d2780e99a42c9ac008</td>\n",
       "      <td>2478.41</td>\n",
       "      <td>0.0</td>\n",
       "    </tr>\n",
       "    <tr>\n",
       "      <th>741</th>\n",
       "      <td>0x64182502c1b1b4d6584998fc33358956434d2dc4</td>\n",
       "      <td>2328.50</td>\n",
       "      <td>0.0</td>\n",
       "    </tr>\n",
       "  </tbody>\n",
       "</table>\n",
       "</div>"
      ],
      "text/plain": [
       "                                          wallet  total_sent  total_received\n",
       "1650  0xd538f9c05ec121d00f70a00aa58b4ea2b7339a54     4086.22             0.0\n",
       "66    0x0a83fcafb15e96514ef61020d4c96714a42bd923     2884.04             0.0\n",
       "1577  0xcc3f561f13db4c0a50c9f71ef693cf59eef2ba25     2847.44             0.0\n",
       "113   0x1172060a8e20eb50ab9194d2780e99a42c9ac008     2478.41             0.0\n",
       "741   0x64182502c1b1b4d6584998fc33358956434d2dc4     2328.50             0.0"
      ]
     },
     "execution_count": 20,
     "metadata": {},
     "output_type": "execute_result"
    }
   ],
   "source": [
    "# arranging the data in descending order by total_sent and getting the top 5 wallets\n",
    "wallets_summary.sort_values(by='total_sent', ascending= False).head(5)\n",
    "\n"
   ]
  },
  {
   "cell_type": "code",
   "execution_count": 21,
   "id": "8687f443",
   "metadata": {},
   "outputs": [
    {
     "data": {
      "text/html": [
       "<div>\n",
       "<style scoped>\n",
       "    .dataframe tbody tr th:only-of-type {\n",
       "        vertical-align: middle;\n",
       "    }\n",
       "\n",
       "    .dataframe tbody tr th {\n",
       "        vertical-align: top;\n",
       "    }\n",
       "\n",
       "    .dataframe thead th {\n",
       "        text-align: right;\n",
       "    }\n",
       "</style>\n",
       "<table border=\"1\" class=\"dataframe\">\n",
       "  <thead>\n",
       "    <tr style=\"text-align: right;\">\n",
       "      <th></th>\n",
       "      <th>wallet</th>\n",
       "      <th>total_sent</th>\n",
       "      <th>total_received</th>\n",
       "    </tr>\n",
       "  </thead>\n",
       "  <tbody>\n",
       "    <tr>\n",
       "      <th>486</th>\n",
       "      <td>0x41fa64b5778a5b75f7bc268a206da1213e918bbe</td>\n",
       "      <td>0.0</td>\n",
       "      <td>4086.22</td>\n",
       "    </tr>\n",
       "    <tr>\n",
       "      <th>6</th>\n",
       "      <td>0x0114a8e880508bfe99f6c996096380067a1c6b7a</td>\n",
       "      <td>0.0</td>\n",
       "      <td>2884.04</td>\n",
       "    </tr>\n",
       "    <tr>\n",
       "      <th>1457</th>\n",
       "      <td>0xbb026b16b326e5f371895e733acdd551a67782f0</td>\n",
       "      <td>0.0</td>\n",
       "      <td>2847.44</td>\n",
       "    </tr>\n",
       "    <tr>\n",
       "      <th>1396</th>\n",
       "      <td>0xb25cee0b7a9853576b3532f996eabb1fad16d4cb</td>\n",
       "      <td>0.0</td>\n",
       "      <td>2478.41</td>\n",
       "    </tr>\n",
       "    <tr>\n",
       "      <th>499</th>\n",
       "      <td>0x43a4c923ca61d288fa9dd081f33f2b6853bdf8cf</td>\n",
       "      <td>0.0</td>\n",
       "      <td>2328.50</td>\n",
       "    </tr>\n",
       "  </tbody>\n",
       "</table>\n",
       "</div>"
      ],
      "text/plain": [
       "                                          wallet  total_sent  total_received\n",
       "486   0x41fa64b5778a5b75f7bc268a206da1213e918bbe         0.0         4086.22\n",
       "6     0x0114a8e880508bfe99f6c996096380067a1c6b7a         0.0         2884.04\n",
       "1457  0xbb026b16b326e5f371895e733acdd551a67782f0         0.0         2847.44\n",
       "1396  0xb25cee0b7a9853576b3532f996eabb1fad16d4cb         0.0         2478.41\n",
       "499   0x43a4c923ca61d288fa9dd081f33f2b6853bdf8cf         0.0         2328.50"
      ]
     },
     "execution_count": 21,
     "metadata": {},
     "output_type": "execute_result"
    }
   ],
   "source": [
    "#arranging the data in descending order by total_received and getting the top 5 wallets\n",
    "wallets_summary.sort_values(by = 'total_received', ascending = False).head(5)\n"
   ]
  },
  {
   "cell_type": "markdown",
   "id": "50ba35b9",
   "metadata": {},
   "source": [
    "Q3 c) Create a new column: net_flow = received - sent.\n"
   ]
  },
  {
   "cell_type": "code",
   "execution_count": 22,
   "id": "961cc78b",
   "metadata": {},
   "outputs": [
    {
     "data": {
      "text/html": [
       "<div>\n",
       "<style scoped>\n",
       "    .dataframe tbody tr th:only-of-type {\n",
       "        vertical-align: middle;\n",
       "    }\n",
       "\n",
       "    .dataframe tbody tr th {\n",
       "        vertical-align: top;\n",
       "    }\n",
       "\n",
       "    .dataframe thead th {\n",
       "        text-align: right;\n",
       "    }\n",
       "</style>\n",
       "<table border=\"1\" class=\"dataframe\">\n",
       "  <thead>\n",
       "    <tr style=\"text-align: right;\">\n",
       "      <th></th>\n",
       "      <th>wallet</th>\n",
       "      <th>total_sent</th>\n",
       "      <th>total_received</th>\n",
       "      <th>net_flow</th>\n",
       "    </tr>\n",
       "  </thead>\n",
       "  <tbody>\n",
       "    <tr>\n",
       "      <th>0</th>\n",
       "      <td>0x0003c3872d1848ec2011e26ad7571c69370f9fd0</td>\n",
       "      <td>634.78</td>\n",
       "      <td>0.0</td>\n",
       "      <td>-634.78</td>\n",
       "    </tr>\n",
       "    <tr>\n",
       "      <th>1</th>\n",
       "      <td>0x0034126c0d51266516fd65d12f3c9a67f04062fa</td>\n",
       "      <td>138.44</td>\n",
       "      <td>0.0</td>\n",
       "      <td>-138.44</td>\n",
       "    </tr>\n",
       "    <tr>\n",
       "      <th>2</th>\n",
       "      <td>0x005f673297464a3a9b8657e7f9d1a19e6d62f0f7</td>\n",
       "      <td>26.53</td>\n",
       "      <td>0.0</td>\n",
       "      <td>-26.53</td>\n",
       "    </tr>\n",
       "    <tr>\n",
       "      <th>3</th>\n",
       "      <td>0x00906f78509cf901863c7f6980e32877871b784e</td>\n",
       "      <td>452.03</td>\n",
       "      <td>0.0</td>\n",
       "      <td>-452.03</td>\n",
       "    </tr>\n",
       "    <tr>\n",
       "      <th>4</th>\n",
       "      <td>0x00fafa59c53d3dd96f5ce0c922ea899710e33c56</td>\n",
       "      <td>136.02</td>\n",
       "      <td>0.0</td>\n",
       "      <td>-136.02</td>\n",
       "    </tr>\n",
       "  </tbody>\n",
       "</table>\n",
       "</div>"
      ],
      "text/plain": [
       "                                       wallet  total_sent  total_received  \\\n",
       "0  0x0003c3872d1848ec2011e26ad7571c69370f9fd0      634.78             0.0   \n",
       "1  0x0034126c0d51266516fd65d12f3c9a67f04062fa      138.44             0.0   \n",
       "2  0x005f673297464a3a9b8657e7f9d1a19e6d62f0f7       26.53             0.0   \n",
       "3  0x00906f78509cf901863c7f6980e32877871b784e      452.03             0.0   \n",
       "4  0x00fafa59c53d3dd96f5ce0c922ea899710e33c56      136.02             0.0   \n",
       "\n",
       "   net_flow  \n",
       "0   -634.78  \n",
       "1   -138.44  \n",
       "2    -26.53  \n",
       "3   -452.03  \n",
       "4   -136.02  "
      ]
     },
     "execution_count": 22,
     "metadata": {},
     "output_type": "execute_result"
    }
   ],
   "source": [
    "# create net_flow column\n",
    "wallets_summary['net_flow'] =  wallets_summary['total_received'] - wallets_summary['total_sent']\n",
    "\n",
    "wallets_summary.head(5)"
   ]
  },
  {
   "cell_type": "markdown",
   "id": "cc628445",
   "metadata": {},
   "source": [
    "Q4 Token analysis - Find the average, median, and standard deviation of amount per token (use .agg()).\n"
   ]
  },
  {
   "cell_type": "code",
   "execution_count": 23,
   "id": "e914c521",
   "metadata": {},
   "outputs": [
    {
     "data": {
      "text/html": [
       "<div>\n",
       "<style scoped>\n",
       "    .dataframe tbody tr th:only-of-type {\n",
       "        vertical-align: middle;\n",
       "    }\n",
       "\n",
       "    .dataframe tbody tr th {\n",
       "        vertical-align: top;\n",
       "    }\n",
       "\n",
       "    .dataframe thead th {\n",
       "        text-align: right;\n",
       "    }\n",
       "</style>\n",
       "<table border=\"1\" class=\"dataframe\">\n",
       "  <thead>\n",
       "    <tr style=\"text-align: right;\">\n",
       "      <th></th>\n",
       "      <th>sender_wallet</th>\n",
       "      <th>receiver_wallet</th>\n",
       "      <th>token</th>\n",
       "      <th>amount</th>\n",
       "      <th>timestamp</th>\n",
       "      <th>gas_used</th>\n",
       "      <th>tx_fee_usd</th>\n",
       "    </tr>\n",
       "  </thead>\n",
       "  <tbody>\n",
       "    <tr>\n",
       "      <th>0</th>\n",
       "      <td>0xaed548b0ad2ad42d36a65fc9fbb7365290273735</td>\n",
       "      <td>0x6f0fa65da6805b547779f78d7ad8e2a1247cd860</td>\n",
       "      <td>UNI</td>\n",
       "      <td>234.63</td>\n",
       "      <td>2024-07-27 03:58:20</td>\n",
       "      <td>78134</td>\n",
       "      <td>3.71</td>\n",
       "    </tr>\n",
       "    <tr>\n",
       "      <th>1</th>\n",
       "      <td>0xadebdbe4ffde843c5c0942476dafed98f4081ed2</td>\n",
       "      <td>0xfab70b3d71fab174410d390a80a1377c72a41251</td>\n",
       "      <td>USDC</td>\n",
       "      <td>1505.06</td>\n",
       "      <td>2024-07-14 03:04:09</td>\n",
       "      <td>41491</td>\n",
       "      <td>9.32</td>\n",
       "    </tr>\n",
       "    <tr>\n",
       "      <th>2</th>\n",
       "      <td>0xe380d92bab460b09297a542e4b0198e2c87e43c6</td>\n",
       "      <td>0x322edf020491e29d79318e73fb976d1c4bf159e2</td>\n",
       "      <td>WBTC</td>\n",
       "      <td>658.37</td>\n",
       "      <td>2024-07-29 07:29:38</td>\n",
       "      <td>22341</td>\n",
       "      <td>2.63</td>\n",
       "    </tr>\n",
       "    <tr>\n",
       "      <th>3</th>\n",
       "      <td>0x262afa887ea89b1b66c12e70d25de9412bdf3ddb</td>\n",
       "      <td>0x8ce7e3767410f34c6db80d9bd87bb5503ae1a0e3</td>\n",
       "      <td>UNI</td>\n",
       "      <td>456.47</td>\n",
       "      <td>2024-07-20 06:26:24</td>\n",
       "      <td>65623</td>\n",
       "      <td>4.04</td>\n",
       "    </tr>\n",
       "    <tr>\n",
       "      <th>4</th>\n",
       "      <td>0x4d87bd4dc83166db001549b0f7dd10ed8172a979</td>\n",
       "      <td>0xaf6bb63813b74b9c62a370447287eb805b11c3ca</td>\n",
       "      <td>WBTC</td>\n",
       "      <td>84.81</td>\n",
       "      <td>2024-07-13 23:07:51</td>\n",
       "      <td>21338</td>\n",
       "      <td>4.60</td>\n",
       "    </tr>\n",
       "  </tbody>\n",
       "</table>\n",
       "</div>"
      ],
      "text/plain": [
       "                                sender_wallet  \\\n",
       "0  0xaed548b0ad2ad42d36a65fc9fbb7365290273735   \n",
       "1  0xadebdbe4ffde843c5c0942476dafed98f4081ed2   \n",
       "2  0xe380d92bab460b09297a542e4b0198e2c87e43c6   \n",
       "3  0x262afa887ea89b1b66c12e70d25de9412bdf3ddb   \n",
       "4  0x4d87bd4dc83166db001549b0f7dd10ed8172a979   \n",
       "\n",
       "                              receiver_wallet token   amount  \\\n",
       "0  0x6f0fa65da6805b547779f78d7ad8e2a1247cd860   UNI   234.63   \n",
       "1  0xfab70b3d71fab174410d390a80a1377c72a41251  USDC  1505.06   \n",
       "2  0x322edf020491e29d79318e73fb976d1c4bf159e2  WBTC   658.37   \n",
       "3  0x8ce7e3767410f34c6db80d9bd87bb5503ae1a0e3   UNI   456.47   \n",
       "4  0xaf6bb63813b74b9c62a370447287eb805b11c3ca  WBTC    84.81   \n",
       "\n",
       "            timestamp  gas_used  tx_fee_usd  \n",
       "0 2024-07-27 03:58:20     78134        3.71  \n",
       "1 2024-07-14 03:04:09     41491        9.32  \n",
       "2 2024-07-29 07:29:38     22341        2.63  \n",
       "3 2024-07-20 06:26:24     65623        4.04  \n",
       "4 2024-07-13 23:07:51     21338        4.60  "
      ]
     },
     "execution_count": 23,
     "metadata": {},
     "output_type": "execute_result"
    }
   ],
   "source": [
    "df.head(5)"
   ]
  },
  {
   "cell_type": "code",
   "execution_count": 25,
   "id": "e287ea40",
   "metadata": {},
   "outputs": [
    {
     "data": {
      "text/html": [
       "<div>\n",
       "<style scoped>\n",
       "    .dataframe tbody tr th:only-of-type {\n",
       "        vertical-align: middle;\n",
       "    }\n",
       "\n",
       "    .dataframe tbody tr th {\n",
       "        vertical-align: top;\n",
       "    }\n",
       "\n",
       "    .dataframe thead th {\n",
       "        text-align: right;\n",
       "    }\n",
       "</style>\n",
       "<table border=\"1\" class=\"dataframe\">\n",
       "  <thead>\n",
       "    <tr style=\"text-align: right;\">\n",
       "      <th></th>\n",
       "      <th>token</th>\n",
       "      <th>mean</th>\n",
       "      <th>median</th>\n",
       "      <th>std</th>\n",
       "    </tr>\n",
       "  </thead>\n",
       "  <tbody>\n",
       "    <tr>\n",
       "      <th>0</th>\n",
       "      <td>DAI</td>\n",
       "      <td>454.243386</td>\n",
       "      <td>316.210</td>\n",
       "      <td>456.309472</td>\n",
       "    </tr>\n",
       "    <tr>\n",
       "      <th>1</th>\n",
       "      <td>ETH</td>\n",
       "      <td>505.486502</td>\n",
       "      <td>365.730</td>\n",
       "      <td>524.465758</td>\n",
       "    </tr>\n",
       "    <tr>\n",
       "      <th>2</th>\n",
       "      <td>UNI</td>\n",
       "      <td>478.323196</td>\n",
       "      <td>305.365</td>\n",
       "      <td>497.945907</td>\n",
       "    </tr>\n",
       "    <tr>\n",
       "      <th>3</th>\n",
       "      <td>USDC</td>\n",
       "      <td>518.157150</td>\n",
       "      <td>367.185</td>\n",
       "      <td>507.707334</td>\n",
       "    </tr>\n",
       "    <tr>\n",
       "      <th>4</th>\n",
       "      <td>WBTC</td>\n",
       "      <td>473.650093</td>\n",
       "      <td>349.240</td>\n",
       "      <td>443.158188</td>\n",
       "    </tr>\n",
       "  </tbody>\n",
       "</table>\n",
       "</div>"
      ],
      "text/plain": [
       "  token        mean   median         std\n",
       "0   DAI  454.243386  316.210  456.309472\n",
       "1   ETH  505.486502  365.730  524.465758\n",
       "2   UNI  478.323196  305.365  497.945907\n",
       "3  USDC  518.157150  367.185  507.707334\n",
       "4  WBTC  473.650093  349.240  443.158188"
      ]
     },
     "execution_count": 25,
     "metadata": {},
     "output_type": "execute_result"
    }
   ],
   "source": [
    "#groups the dataframe by token and aggregates the amount using mean, median, and std\n",
    "tokens= df.groupby('token')['amount'].agg(['mean', 'median', 'std']).reset_index()\n",
    "\n",
    "tokens.head(5)"
   ]
  },
  {
   "cell_type": "markdown",
   "id": "8c5103c1",
   "metadata": {},
   "source": [
    "Q4 b) Identify the token with the highest transaction volume (in total amount, not count).\n"
   ]
  },
  {
   "cell_type": "code",
   "execution_count": 26,
   "id": "9e106853",
   "metadata": {},
   "outputs": [
    {
     "data": {
      "text/plain": [
       "token\n",
       "USDC    103631.43\n",
       "ETH     102613.76\n",
       "WBTC    101361.12\n",
       "UNI      92794.70\n",
       "DAI      85852.00\n",
       "Name: amount, dtype: float64"
      ]
     },
     "execution_count": 26,
     "metadata": {},
     "output_type": "execute_result"
    }
   ],
   "source": [
    "# sums by tokens and arranges in descending order\n",
    "tx_volume_tokens = df.groupby('token')['amount'].sum()\n",
    "\n",
    "tx_volume_tokens = tx_volume_tokens.sort_values(ascending= False)\n",
    "\n",
    "tx_volume_tokens"
   ]
  },
  {
   "cell_type": "markdown",
   "id": "2eb27dc5",
   "metadata": {},
   "source": [
    "Q4 c) Plot a bar chart showing total amount transferred per token using matplotlib.\n"
   ]
  },
  {
   "cell_type": "code",
   "execution_count": 27,
   "id": "f6a66297",
   "metadata": {},
   "outputs": [
    {
     "data": {
      "image/png": "[encoded data removed]",
      "text/plain": [
       "<Figure size 1200x600 with 1 Axes>"
      ]
     },
     "metadata": {},
     "output_type": "display_data"
    }
   ],
   "source": [
    "# plots a bar chart showing total amount transferred per token using matplotlib\n",
    "import matplotlib.pyplot as plt\n",
    "\n",
    "tx_volume_tokens.plot(kind='bar', figsize=(12, 6), color='skyblue')\n",
    "plt.title('Total Amount Transferred per Token')\n",
    "plt.xlabel('Token')\n",
    "plt.ylabel('Total Amount Transferred')\n",
    "plt.xticks(rotation=45)\n",
    "plt.tight_layout()\n",
    "plt.show()  "
   ]
  },
  {
   "cell_type": "code",
   "execution_count": null,
   "id": "37c0365e",
   "metadata": {},
   "outputs": [],
   "source": []
  }
 ],
 "metadata": {
  "kernelspec": {
   "display_name": "myenv",
   "language": "python",
   "name": "python3"
  },
  "language_info": {
   "codemirror_mode": {
    "name": "ipython",
    "version": 3
   },
   "file_extension": ".py",
   "mimetype": "text/x-python",
   "name": "python",
   "nbconvert_exporter": "python",
   "pygments_lexer": "ipython3",
   "version": "3.12.3"
  }
 },
 "nbformat": 4,
 "nbformat_minor": 5
}

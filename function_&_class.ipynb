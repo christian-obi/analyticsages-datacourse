{
 "cells": [
  {
   "cell_type": "markdown",
   "id": "6e092aae",
   "metadata": {},
   "source": [
    "### functions in python\n",
    "a function is a reusable block of code that performs specific task. they are inbuilt function and custom functions"
   ]
  },
  {
   "cell_type": "code",
   "execution_count": 10,
   "id": "782f0749",
   "metadata": {},
   "outputs": [
    {
     "name": "stdout",
     "output_type": "stream",
     "text": [
      "The sum is: 8\n"
     ]
    }
   ],
   "source": [
    "# example\n",
    "\n",
    "def add(x, y)-> int:\n",
    "    \"\"\"Returns the sum of x and y.\"\"\"\n",
    "    sum = x + y\n",
    "    print(\"The sum is:\", sum)\n",
    "    \n",
    "\n",
    "add(2, 6)"
   ]
  },
  {
   "cell_type": "markdown",
   "id": "b4704b07",
   "metadata": {},
   "source": [
    "## Function Arguments and Parameters\n",
    "Positional: Matched by order.\n",
    "\n",
    "Type of Arguments\n",
    "- Positional Argument\n",
    "- Keyword Argument\n",
    "Keyword: Matched by name (e.g., func(name=\"Alice\")).\n",
    "\n",
    "*args: Accepts extra positional arguments as a tuple.\n",
    "\n",
    "**kwargs: Accepts extra keyword arguments as a dictionary."
   ]
  },
  {
   "cell_type": "markdown",
   "id": "fd5dd138",
   "metadata": {},
   "source": [
    "### Positional Argument"
   ]
  },
  {
   "cell_type": "code",
   "execution_count": null,
   "id": "1b18aebe",
   "metadata": {},
   "outputs": [
    {
     "name": "stdout",
     "output_type": "stream",
     "text": [
      "2\n"
     ]
    }
   ],
   "source": [
    "def swiss(a, b, c) -> int:\n",
    "    calc= a - b + c\n",
    "    return calc\n",
    "check = swiss(1,2,3)\n",
    "print(check)\n"
   ]
  },
  {
   "cell_type": "markdown",
   "id": "883e4bd7",
   "metadata": {},
   "source": [
    "### Keyword Argument"
   ]
  },
  {
   "cell_type": "code",
   "execution_count": 22,
   "id": "d374867e",
   "metadata": {},
   "outputs": [
    {
     "name": "stdout",
     "output_type": "stream",
     "text": [
      "Name yusuf\n",
      "Age 40\n",
      "Height 0.0\n",
      "State Ogun\n"
     ]
    }
   ],
   "source": [
    "def insert_keyword(name=\"Alice\", age=30, height= 0.0, state=\"Lagos\"):\n",
    "    print(\"Name\", name)\n",
    "    print(\"Age\", age)\n",
    "    print(\"Height\", height)\n",
    "    print(\"State\",state)\n",
    "\n",
    "insert_keyword(state= \"Ogun\", age= 40, name= \"yusuf\") #this shows that it is not positional, it just uses keyword"
   ]
  },
  {
   "cell_type": "markdown",
   "id": "5684b4ae",
   "metadata": {},
   "source": [
    "### *args Arguments"
   ]
  },
  {
   "cell_type": "code",
   "execution_count": 27,
   "id": "d59025a4",
   "metadata": {},
   "outputs": [
    {
     "name": "stdout",
     "output_type": "stream",
     "text": [
      "<class 'tuple'>\n",
      "8 3 5 19 0 9 "
     ]
    }
   ],
   "source": [
    "def chest(*args):\n",
    "    print(type(args))\n",
    "    for num in args:\n",
    "        print (num, end=\" \")\n",
    "\n",
    "chest(8,3,5,19,0,9) #basically this function just takes in any amount of stuffs put in it where as the prev \"swiss\" argument we only wanted 3 variable to be able to enter \n"
   ]
  },
  {
   "cell_type": "markdown",
   "id": "fd370f2e",
   "metadata": {},
   "source": [
    "### **Kwarg (Key word arg) Argument"
   ]
  },
  {
   "cell_type": "code",
   "execution_count": 28,
   "id": "23f9dae8",
   "metadata": {},
   "outputs": [
    {
     "name": "stdout",
     "output_type": "stream",
     "text": [
      "<class 'dict'>\n",
      "name: David\n",
      "age: 35\n",
      "city: Lagos\n"
     ]
    }
   ],
   "source": [
    "def upgraded(**kwargs):\n",
    "    print(type(kwargs))\n",
    "    for key, value in kwargs.items():\n",
    "        print(f\"{key}: {value}\")\n",
    "\n",
    "upgraded(name = \"David\", age=35, city= \"Lagos\")"
   ]
  },
  {
   "cell_type": "code",
   "execution_count": null,
   "id": "d8f2122f",
   "metadata": {},
   "outputs": [
    {
     "name": "stdout",
     "output_type": "stream",
     "text": [
      "The average price is: 72\n"
     ]
    }
   ],
   "source": [
    "# create a function to calc average of a list of numbers\n",
    "import math\n",
    "def average(number)-> int:\n",
    "\n",
    "    total = 0\n",
    "    for i in number:\n",
    "        total += i\n",
    "    check_avg = total / len(number)\n",
    "    return check_avg            #float\n",
    "    # return round(check_avg)       #round to the nearest int\n",
    "    # return math.ceil(check_avg) #to round up\n",
    "    # return math.floor(check_avg) #to round down\n",
    "\n",
    "prices = [10, 230, 30.876, 40, 50]\n",
    "avg_price = average(prices)\n",
    "print(f\"The average price is: {avg_price}\")"
   ]
  },
  {
   "cell_type": "code",
   "execution_count": 43,
   "id": "8d1cd1e7",
   "metadata": {},
   "outputs": [
    {
     "name": "stdout",
     "output_type": "stream",
     "text": [
      "BTC Price CHange : 25.7%\n"
     ]
    }
   ],
   "source": [
    "# Get crypto price change\n",
    "\n",
    "def calculate_price_change(old_price,new_price):\n",
    "    change= ((new_price - old_price) / old_price) * 100\n",
    "    return round(change, 2)\n",
    "\n",
    "btc_change = calculate_price_change(100000, 125700)\n",
    "print(f\"BTC Price CHange : {btc_change}%\")"
   ]
  },
  {
   "cell_type": "code",
   "execution_count": 44,
   "id": "b45227c4",
   "metadata": {},
   "outputs": [
    {
     "name": "stdout",
     "output_type": "stream",
     "text": [
      "Bitcoin is currently trading at $45000.12\n",
      "Ethereum is currently trading at $3000.57\n"
     ]
    }
   ],
   "source": [
    "def format_crypto_price(name, price, symbol=\"$\"):\n",
    "    return f\"{name} is currently trading at {symbol}{price:.2f}\"\n",
    "\n",
    "print(format_crypto_price(\"Bitcoin\", 45000.12345))\n",
    "print(format_crypto_price(\"Ethereum\", 3000.56789))"
   ]
  },
  {
   "cell_type": "markdown",
   "id": "32d95c71",
   "metadata": {},
   "source": [
    "## classes in python"
   ]
  },
  {
   "cell_type": "markdown",
   "id": "fd2fa683",
   "metadata": {},
   "source": [
    "## Classes in Python\n",
    "#### What Are Classes?\n",
    "Classes are blueprints (templates) for creating objects. An object is an instance of a class that can hold data (attributes) and perform actions (methods). Classes are ideal for modeling real-world entities, like a cryptocurrency or a portfolio.\n",
    "\n",
    "#### Defining a Class\n",
    "-- Use the class keyword to define a class.\n",
    "\n",
    "-- Classes typically include:\n",
    "\n",
    "Attributes: Variables that store data.\n",
    "Methods: Functions that define the behavior of the class.\n",
    "Constructor (init): A special method to initialize objects.\n",
    "#### What is self in a Class?\n",
    "-- Definition: self is the first parameter in instance methods of a class. It represents the instance (object) on which the method is called. While self is not a reserved keyword in Python, it’s the standard convention for naming this parameter.\n",
    "\n",
    "-- Purpose: self allows methods to:\n",
    "\n",
    "Access and modify the instance’s attributes.\n",
    "Call other methods of the same instance.\n",
    "Differentiate between instance-specific data and class-level data.\n",
    "-- When Used: self is used in instance methods (not static or class methods) and in the init constructor to initialize instance attributes."
   ]
  },
  {
   "cell_type": "code",
   "execution_count": 18,
   "id": "109c65bf",
   "metadata": {},
   "outputs": [],
   "source": [
    "class CryptoWallet:\n",
    "    #constructor to initialize the wallet with a balance\n",
    "    def __init__(self, owner):\n",
    "        self.owner= owner\n",
    "        self.balance = {}\n",
    "    \n",
    "    #method to add funds to the wallet\n",
    "    def deposit(self, token, amount):\n",
    "        self.balance[token] = self.balance.get(token, 0) + amount\n",
    "    \n",
    "    #method to withdraw funds from the wallet\n",
    "    def withdraw(self, token, amount):\n",
    "        if token in self.balance and self.balance[token] >= amount:\n",
    "            self.balance[token] -= amount\n",
    "            return True\n",
    "        else:\n",
    "            return False\n",
    "        \n",
    "    #method to get the balance of a specific token\n",
    "    def get_balance(self):\n",
    "        return self.balance\n",
    "    \n",
    "    "
   ]
  },
  {
   "cell_type": "code",
   "execution_count": 19,
   "id": "76ea6703",
   "metadata": {},
   "outputs": [
    {
     "name": "stdout",
     "output_type": "stream",
     "text": [
      "{'ETH': 0.7, 'BTC': 0.1}\n"
     ]
    }
   ],
   "source": [
    "wallet = CryptoWallet(\"josh\")\n",
    "wallet.deposit(\"ETH\", 0.7)\n",
    "wallet.deposit(\"BTC\", 0.1)\n",
    "\n",
    "print(wallet.get_balance())"
   ]
  },
  {
   "cell_type": "code",
   "execution_count": 23,
   "id": "00e16b2b",
   "metadata": {},
   "outputs": [
    {
     "name": "stdout",
     "output_type": "stream",
     "text": [
      "withdrawal success:  True\n",
      "{'ETH': 0.5, 'BTC': 0.1}\n"
     ]
    }
   ],
   "source": [
    "success = wallet.withdraw(\"ETH\", 0.1)\n",
    "print(\"withdrawal success: \", success)\n",
    "print(wallet.get_balance())"
   ]
  },
  {
   "cell_type": "code",
   "execution_count": 24,
   "id": "9fe064da",
   "metadata": {},
   "outputs": [],
   "source": [
    "class Cryptocurrency:\n",
    "    \"\"\"class to represent a cryptocurrency\"\"\"\n",
    "    def __init__(self, name, symbol, price, quantity):\n",
    "        self.name = name        #e.g. Bitcoin\n",
    "        self.symbol = symbol       #currency symbol\n",
    "        self.price = price          #current price\n",
    "        self.quantity = quantity    #amount held\n",
    "\n",
    "    def get_value(self):\n",
    "        \"\"\"Calculate the total value of the cryptocurrency.\"\"\"\n",
    "        return self.price * self.quantity\n",
    "    \n",
    "    def updated_price(self, new_price):\n",
    "        \"\"\"Update the price of the cryptocurrency.\"\"\"\n",
    "        self.price = new_price\n",
    "\n",
    "class portfolio:\n",
    "    \"\"\"Class to fact check portfolio of cryptocurrencies\"\"\"\n",
    "    def __init__(self):\n",
    "        self.holdings = {} # dictionary to store cryptocurrencies\n",
    "\n",
    "    def add_crypto(self, crypto):\n",
    "        \"\"\"Add a cryptocurrency to the portfolio.\"\"\"\n",
    "        self.holdings[crypto.symbol] =crypto\n",
    "\n",
    "    def get_total_value(self):\n",
    "        \"\"\"calculate the total value of the portfolio.\"\"\"\n",
    "        total = sum(crypto.get_value() for crypto in self.holdings.values())\n",
    "        return total\n",
    "    \n",
    "    def get_holdings(self, symbol):\n",
    "        \"\"\"retrieves a cryptocurrency by its symbol.\"\"\"\n",
    "        return self.holdings.get(symbol, None)\n",
    "    \n",
    "    def withdraw(self, symbol, quantity):\n",
    "        \"\"\" Withdraw a specified quantity\"\"\"\n",
    "        crypto = self.get_holdings(symbol)\n",
    "\n",
    "        \"\"\"check if the cryptocurrency exists in the portfolio\"\"\"\n",
    "        if not crypto:\n",
    "            print(f\"{symbol} not found in portfolio.\")\n",
    "            return False\n",
    "        \n",
    "        \"\"\"check quantity to withdraw\"\"\"\n",
    "        if quantity <= 0:\n",
    "            print(\"Invalid quantity to withdraw.\")\n",
    "            return False\n",
    "        \n",
    "        if quantity > crypto.quantity:\n",
    "            print(f\"Error: Insuffiecient {symbol} quantity. available: {crypto.quantity}, requested: {quantity}.\")\n",
    "            return False\n",
    "        \n",
    "        \"\"\"update the quantity of the cryptocurrency\"\"\"\n",
    "        crypto.quantity -= quantity\n",
    "        print(f\"Withdrew {quantity} {symbol}. New quantity: {crypto.quantity}\")\n",
    "        \n",
    "        \n",
    "        \"\"\"remove the cryptocurrency from the portfolio if quantity is zero\"\"\"\n",
    "        if crypto.quantity == 0:\n",
    "            del self.holdings[symbol]\n",
    "            print(f\"{symbol} has been removed from the portfolio.\" )\n",
    "        return True\n",
    "    \n",
    "\n",
    "    \n",
    "    \n",
    "\n"
   ]
  },
  {
   "cell_type": "code",
   "execution_count": 25,
   "id": "ea6da731",
   "metadata": {},
   "outputs": [
    {
     "name": "stdout",
     "output_type": "stream",
     "text": [
      "Total portfolio value: $117200.00\n"
     ]
    }
   ],
   "source": [
    "#create cryptocurrency objects/ portfolio instance\n",
    "bitcoin = Cryptocurrency(\"Bitcoin\", \"BTC\", 117000, 1)\n",
    "ethereum = Cryptocurrency(\"Ethereum\", \"ETH\", 500, 0.4)\n",
    "\n",
    "#create portfolio with the crypto you have\n",
    "my_portfolio = portfolio()\n",
    "my_portfolio.add_crypto(bitcoin)\n",
    "my_portfolio.add_crypto(ethereum)\n",
    "\n",
    "#calc portfolio value\n",
    "total_value = my_portfolio.get_total_value()\n",
    "print(f\"Total portfolio value: ${total_value:.2f}\")"
   ]
  },
  {
   "cell_type": "code",
   "execution_count": 27,
   "id": "02deafc1",
   "metadata": {},
   "outputs": [
    {
     "name": "stdout",
     "output_type": "stream",
     "text": [
      "Updated Bitcoin price: 100000\n",
      "Bitcoin value in portfolio: $100000.00\n",
      "updated portfolio value: $100200.00\n"
     ]
    }
   ],
   "source": [
    "bitcoin.updated_price(100000)  #update bitcoin price\n",
    "print(f\"Updated Bitcoin price: {bitcoin.price}\")\n",
    "print(f\"Bitcoin value in portfolio: ${bitcoin.get_value():.2f}\")\n",
    "print(f\"updated portfolio value: ${my_portfolio.get_total_value():.2f}\")"
   ]
  },
  {
   "cell_type": "code",
   "execution_count": 28,
   "id": "7479c128",
   "metadata": {},
   "outputs": [
    {
     "name": "stdout",
     "output_type": "stream",
     "text": [
      "Withdrew 0.2 ETH. New quantity: 0.2\n",
      "Updated portfolio value after withdrawal: $100100.00\n"
     ]
    }
   ],
   "source": [
    "#withdraw from the portfolio\n",
    "my_portfolio.withdraw(\"ETH\", 0.2)\n",
    "print(f\"Updated portfolio value after withdrawal: ${my_portfolio.get_total_value():.2f}\")   "
   ]
  }
 ],
 "metadata": {
  "kernelspec": {
   "display_name": "myenv",
   "language": "python",
   "name": "python3"
  },
  "language_info": {
   "codemirror_mode": {
    "name": "ipython",
    "version": 3
   },
   "file_extension": ".py",
   "mimetype": "text/x-python",
   "name": "python",
   "nbconvert_exporter": "python",
   "pygments_lexer": "ipython3",
   "version": "3.12.3"
  }
 },
 "nbformat": 4,
 "nbformat_minor": 5
}

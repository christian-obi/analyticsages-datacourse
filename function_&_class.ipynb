{
 "cells": [
  {
   "cell_type": "markdown",
   "id": "6e092aae",
   "metadata": {},
   "source": [
    "### functions in python\n",
    "a function is a reusable block of code that performs specific task. they are inbuilt function and custom functions"
   ]
  },
  {
   "cell_type": "code",
   "execution_count": 10,
   "id": "782f0749",
   "metadata": {},
   "outputs": [
    {
     "name": "stdout",
     "output_type": "stream",
     "text": [
      "The sum is: 8\n"
     ]
    }
   ],
   "source": [
    "# example\n",
    "\n",
    "def add(x, y)-> int:\n",
    "    \"\"\"Returns the sum of x and y.\"\"\"\n",
    "    sum = x + y\n",
    "    print(\"The sum is:\", sum)\n",
    "    \n",
    "\n",
    "add(2, 6)"
   ]
  },
  {
   "cell_type": "markdown",
   "id": "b4704b07",
   "metadata": {},
   "source": [
    "## Function Arguments and Parameters\n",
    "Positional: Matched by order.\n",
    "\n",
    "Type of Arguments\n",
    "- Positional Argument\n",
    "- Keyword Argument\n",
    "Keyword: Matched by name (e.g., func(name=\"Alice\")).\n",
    "\n",
    "*args: Accepts extra positional arguments as a tuple.\n",
    "\n",
    "**kwargs: Accepts extra keyword arguments as a dictionary."
   ]
  },
  {
   "cell_type": "markdown",
   "id": "fd5dd138",
   "metadata": {},
   "source": [
    "### Positional Argument"
   ]
  },
  {
   "cell_type": "code",
   "execution_count": null,
   "id": "1b18aebe",
   "metadata": {},
   "outputs": [
    {
     "name": "stdout",
     "output_type": "stream",
     "text": [
      "2\n"
     ]
    }
   ],
   "source": [
    "def swiss(a, b, c) -> int:\n",
    "    calc= a - b + c\n",
    "    return calc\n",
    "check = swiss(1,2,3)\n",
    "print(check)\n"
   ]
  },
  {
   "cell_type": "markdown",
   "id": "883e4bd7",
   "metadata": {},
   "source": [
    "### Keyword Argument"
   ]
  },
  {
   "cell_type": "code",
   "execution_count": 22,
   "id": "d374867e",
   "metadata": {},
   "outputs": [
    {
     "name": "stdout",
     "output_type": "stream",
     "text": [
      "Name yusuf\n",
      "Age 40\n",
      "Height 0.0\n",
      "State Ogun\n"
     ]
    }
   ],
   "source": [
    "def insert_keyword(name=\"Alice\", age=30, height= 0.0, state=\"Lagos\"):\n",
    "    print(\"Name\", name)\n",
    "    print(\"Age\", age)\n",
    "    print(\"Height\", height)\n",
    "    print(\"State\",state)\n",
    "\n",
    "insert_keyword(state= \"Ogun\", age= 40, name= \"yusuf\") #this shows that it is not positional, it just uses keyword"
   ]
  },
  {
   "cell_type": "markdown",
   "id": "5684b4ae",
   "metadata": {},
   "source": [
    "### *args Arguments"
   ]
  },
  {
   "cell_type": "code",
   "execution_count": 27,
   "id": "d59025a4",
   "metadata": {},
   "outputs": [
    {
     "name": "stdout",
     "output_type": "stream",
     "text": [
      "<class 'tuple'>\n",
      "8 3 5 19 0 9 "
     ]
    }
   ],
   "source": [
    "def chest(*args):\n",
    "    print(type(args))\n",
    "    for num in args:\n",
    "        print (num, end=\" \")\n",
    "\n",
    "chest(8,3,5,19,0,9) #basically this function just takes in any amount of stuffs put in it where as the prev \"swiss\" argument we only wanted 3 variable to be able to enter \n"
   ]
  },
  {
   "cell_type": "markdown",
   "id": "fd370f2e",
   "metadata": {},
   "source": [
    "### **Kwarg (Key word arg) Argument"
   ]
  },
  {
   "cell_type": "code",
   "execution_count": 28,
   "id": "23f9dae8",
   "metadata": {},
   "outputs": [
    {
     "name": "stdout",
     "output_type": "stream",
     "text": [
      "<class 'dict'>\n",
      "name: David\n",
      "age: 35\n",
      "city: Lagos\n"
     ]
    }
   ],
   "source": [
    "def upgraded(**kwargs):\n",
    "    print(type(kwargs))\n",
    "    for key, value in kwargs.items():\n",
    "        print(f\"{key}: {value}\")\n",
    "\n",
    "upgraded(name = \"David\", age=35, city= \"Lagos\")"
   ]
  },
  {
   "cell_type": "code",
   "execution_count": null,
   "id": "d8f2122f",
   "metadata": {},
   "outputs": [
    {
     "name": "stdout",
     "output_type": "stream",
     "text": [
      "The average price is: 72\n"
     ]
    }
   ],
   "source": [
    "# create a function to calc average of a list of numbers\n",
    "import math\n",
    "def average(number)-> int:\n",
    "\n",
    "    total = 0\n",
    "    for i in number:\n",
    "        total += i\n",
    "    check_avg = total / len(number)\n",
    "    return check_avg            #float\n",
    "    # return round(check_avg)       #round to the nearest int\n",
    "    # return math.ceil(check_avg) #to round up\n",
    "    # return math.floor(check_avg) #to round down\n",
    "\n",
    "prices = [10, 230, 30.876, 40, 50]\n",
    "avg_price = average(prices)\n",
    "print(f\"The average price is: {avg_price}\")"
   ]
  },
  {
   "cell_type": "code",
   "execution_count": 43,
   "id": "8d1cd1e7",
   "metadata": {},
   "outputs": [
    {
     "name": "stdout",
     "output_type": "stream",
     "text": [
      "BTC Price CHange : 25.7%\n"
     ]
    }
   ],
   "source": [
    "# Get crypto price change\n",
    "\n",
    "def calculate_price_change(old_price,new_price):\n",
    "    change= ((new_price - old_price) / old_price) * 100\n",
    "    return round(change, 2)\n",
    "\n",
    "btc_change = calculate_price_change(100000, 125700)\n",
    "print(f\"BTC Price CHange : {btc_change}%\")"
   ]
  },
  {
   "cell_type": "code",
   "execution_count": 44,
   "id": "b45227c4",
   "metadata": {},
   "outputs": [
    {
     "name": "stdout",
     "output_type": "stream",
     "text": [
      "Bitcoin is currently trading at $45000.12\n",
      "Ethereum is currently trading at $3000.57\n"
     ]
    }
   ],
   "source": [
    "def format_crypto_price(name, price, symbol=\"$\"):\n",
    "    return f\"{name} is currently trading at {symbol}{price:.2f}\"\n",
    "\n",
    "print(format_crypto_price(\"Bitcoin\", 45000.12345))\n",
    "print(format_crypto_price(\"Ethereum\", 3000.56789))"
   ]
  },
  {
   "cell_type": "code",
   "execution_count": null,
   "id": "109c65bf",
   "metadata": {},
   "outputs": [],
   "source": []
  }
 ],
 "metadata": {
  "kernelspec": {
   "display_name": "myenv",
   "language": "python",
   "name": "python3"
  },
  "language_info": {
   "codemirror_mode": {
    "name": "ipython",
    "version": 3
   },
   "file_extension": ".py",
   "mimetype": "text/x-python",
   "name": "python",
   "nbconvert_exporter": "python",
   "pygments_lexer": "ipython3",
   "version": "3.12.3"
  }
 },
 "nbformat": 4,
 "nbformat_minor": 5
}

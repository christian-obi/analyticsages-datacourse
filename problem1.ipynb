{
 "cells": [
  {
   "cell_type": "markdown",
   "id": "7dbdbda1",
   "metadata": {},
   "source": [
    "## problem 1: Cryptocurrency Token Data\n",
    "\n",
    "#### this data structure represents information about different cryptocurrency tokens listed on a decentralized exchange (DEX)."
   ]
  },
  {
   "cell_type": "code",
   "execution_count": 9,
   "id": "03d737ff",
   "metadata": {},
   "outputs": [],
   "source": [
    "crypto_tokens = [\n",
    "    {\n",
    "        \"name\": \"Token A\",\n",
    "        \"symbol\": \"TKA\",\n",
    "        \"blockchain\": \"Ethereum\",\n",
    "        \"current_price_usd\": 100.0,\n",
    "        \"transaction_history\": [\n",
    "            {\n",
    "                \"date\": \"2024-01-10\",\n",
    "                \"prices\": {\n",
    "                    \"open\": 98.0,\n",
    "                    \"close\": 100.0,\n",
    "                    \"high\": 101.0,\n",
    "                    \"low\": 97.0\n",
    "                },\n",
    "                \"volume\": 12000\n",
    "            },\n",
    "            {\n",
    "                \"date\": \"2024-01-09\",\n",
    "                \"prices\": {\n",
    "                    \"open\": 97.0,\n",
    "                    \"close\": 98.0,\n",
    "                    \"high\": 99.0,\n",
    "                    \"low\": 96.0\n",
    "                },\n",
    "                \"volume\": 15000\n",
    "            }\n",
    "        ],\n",
    "        \"supported_chains\": [\"Ethereum\", \"Polygon\"]\n",
    "    },\n",
    "    {\n",
    "        \"name\": \"Token B\",\n",
    "        \"symbol\": \"TKB\",\n",
    "        \"blockchain\": \"Binance Smart Chain\",\n",
    "        \"current_price_usd\": 200.0,\n",
    "        \"transaction_history\": [\n",
    "            {\n",
    "                \"date\": \"2024-01-10\",\n",
    "                \"prices\": {\n",
    "                    \"open\": 198.0,\n",
    "                    \"close\": 200.0,\n",
    "                    \"high\": 202.0,\n",
    "                    \"low\": 196.0\n",
    "                },\n",
    "                \"volume\": 18000\n",
    "            },\n",
    "            {\n",
    "                \"date\": \"2024-01-09\",\n",
    "                \"prices\": {\n",
    "                    \"open\": 196.0,\n",
    "                    \"close\": 198.0,\n",
    "                    \"high\": 199.0,\n",
    "                    \"low\": 195.0\n",
    "                },\n",
    "                \"volume\": 17000\n",
    "            }\n",
    "        ],\n",
    "        \"supported_chains\": [\"Binance Smart Chain\", \"Avalanche\"]\n",
    "    },\n",
    "    {\n",
    "        \"name\": \"Token C\",\n",
    "        \"symbol\": \"TKC\",\n",
    "        \"blockchain\": \"Solana\",\n",
    "        \"current_price_usd\": 300.0,\n",
    "        \"transaction_history\": [\n",
    "            {\n",
    "                \"date\": \"2024-01-10\",\n",
    "                \"prices\": {\n",
    "                    \"open\": 295.0,\n",
    "                    \"close\": 300.0,\n",
    "                    \"high\": 302.0,\n",
    "                    \"low\": 294.0\n",
    "                },\n",
    "                \"volume\": 22000\n",
    "            },\n",
    "            {\n",
    "                \"date\": \"2024-01-09\",\n",
    "                \"prices\": {\n",
    "                    \"open\": 294.0,\n",
    "                    \"close\": 295.0,\n",
    "                    \"high\": 296.0,\n",
    "                    \"low\": 293.0\n",
    "                },\n",
    "                \"volume\": 21000\n",
    "            }\n",
    "        ],\n",
    "        \"supported_chains\": [\"Solana\", \"Fantom\"]\n",
    "    }\n",
    "]"
   ]
  },
  {
   "cell_type": "markdown",
   "id": "02c77b30",
   "metadata": {},
   "source": [
    "### Q1: Read Data\n",
    "#### Task: DIsplay the current price of \"Token B\""
   ]
  },
  {
   "cell_type": "code",
   "execution_count": 10,
   "id": "d545bcb6",
   "metadata": {},
   "outputs": [
    {
     "name": "stdout",
     "output_type": "stream",
     "text": [
      "the price of token B is 200.0 USD\n"
     ]
    }
   ],
   "source": [
    "print(\"the price of token B is\", crypto_tokens[1][\"current_price_usd\"], \"USD\")"
   ]
  },
  {
   "cell_type": "markdown",
   "id": "a73b8ae8",
   "metadata": {},
   "source": [
    "### Q2: Write Data\n",
    "#### Task: Add a new token \"Token D\" with some initial data to crypto_tokens"
   ]
  },
  {
   "cell_type": "code",
   "execution_count": 11,
   "id": "5a5154ae",
   "metadata": {},
   "outputs": [
    {
     "name": "stdout",
     "output_type": "stream",
     "text": [
      "[{'name': 'Token A', 'symbol': 'TKA', 'blockchain': 'Ethereum', 'current_price_usd': 100.0, 'transaction_history': [{'date': '2024-01-10', 'prices': {'open': 98.0, 'close': 100.0, 'high': 101.0, 'low': 97.0}, 'volume': 12000}, {'date': '2024-01-09', 'prices': {'open': 97.0, 'close': 98.0, 'high': 99.0, 'low': 96.0}, 'volume': 15000}], 'supported_chains': ['Ethereum', 'Polygon']}, {'name': 'Token B', 'symbol': 'TKB', 'blockchain': 'Binance Smart Chain', 'current_price_usd': 200.0, 'transaction_history': [{'date': '2024-01-10', 'prices': {'open': 198.0, 'close': 200.0, 'high': 202.0, 'low': 196.0}, 'volume': 18000}, {'date': '2024-01-09', 'prices': {'open': 196.0, 'close': 198.0, 'high': 199.0, 'low': 195.0}, 'volume': 17000}], 'supported_chains': ['Binance Smart Chain', 'Avalanche']}, {'name': 'Token C', 'symbol': 'TKC', 'blockchain': 'Solana', 'current_price_usd': 300.0, 'transaction_history': [{'date': '2024-01-10', 'prices': {'open': 295.0, 'close': 300.0, 'high': 302.0, 'low': 294.0}, 'volume': 22000}, {'date': '2024-01-09', 'prices': {'open': 294.0, 'close': 295.0, 'high': 296.0, 'low': 293.0}, 'volume': 21000}], 'supported_chains': ['Solana', 'Fantom']}, {'name': 'Token D', 'symbol': 'TKD', 'blockchain': 'Ethereum', 'current_price_usd': 234.0, 'transaction_history': [{'date': '2024-01-10', 'prices': {'open': 230.0, 'close': 244.0, 'high': 245.0, 'low': 227.0}, 'volume': 15000}, {'date': '2024-01-09', 'prices': {'open': 97.0, 'close': 98.0, 'high': 99.0, 'low': 96.0}, 'volume': 15000}], 'supoorted_chains': ['Ethereum', 'Polygon']}]\n"
     ]
    }
   ],
   "source": [
    "x={\"name\": \"Token D\",\n",
    "   \"symbol\": \"TKD\",\n",
    "   \"blockchain\": \"Ethereum\",\n",
    "   \"current_price_usd\": 234.0,\n",
    "   \"transaction_history\":[\n",
    "       {\n",
    "           \"date\": \"2024-01-10\",\n",
    "           \"prices\":{\n",
    "               \"open\": 230.0,\n",
    "               \"close\":244.0,\n",
    "               \"high\": 245.0,\n",
    "               \"low\":227.0\n",
    "           },\n",
    "           \"volume\":15000\n",
    "       },\n",
    "       {\n",
    "           \"date\": \"2024-01-09\",\n",
    "           \"prices\":{\n",
    "               \"open\": 97.0,\n",
    "               \"close\":98.0,\n",
    "               \"high\": 99.0,\n",
    "               \"low\": 96.0\n",
    "           },\n",
    "           \"volume\":15000\n",
    "       }\n",
    "   ],\n",
    "   \"supoorted_chains\": [\"Ethereum\", \"Polygon\"]\n",
    "   }\n",
    "\n",
    "\n",
    "# appending\n",
    "crypto_tokens.append(x)\n",
    "print(crypto_tokens)"
   ]
  },
  {
   "cell_type": "markdown",
   "id": "fe938720",
   "metadata": {},
   "source": [
    "### Q4: Delete Data\n",
    "#### Task: Remove the transaction history for \"Token A\" on \"2024-01-09\""
   ]
  },
  {
   "cell_type": "code",
   "execution_count": 12,
   "id": "8a1bbdc5",
   "metadata": {},
   "outputs": [
    {
     "name": "stdout",
     "output_type": "stream",
     "text": [
      "{'date': '2024-01-09', 'prices': {'open': 97.0, 'close': 98.0, 'high': 99.0, 'low': 96.0}, 'volume': 15000}\n"
     ]
    }
   ],
   "source": [
    "x=crypto_tokens[0][\"transaction_history\"].pop(1)\n",
    "\n",
    "print(x) #this prints the data that was removed\n",
    "# print(crypto_tokens[0][\"transaction_history\"]) #this prints data that is currently in dataset"
   ]
  },
  {
   "cell_type": "markdown",
   "id": "12776352",
   "metadata": {},
   "source": [
    "### Q5 Read Nested Data\n",
    "#### Task: Display the closing price of \"Token B\" on \"2024-01-10\""
   ]
  },
  {
   "cell_type": "code",
   "execution_count": 14,
   "id": "b8601d05",
   "metadata": {},
   "outputs": [
    {
     "name": "stdout",
     "output_type": "stream",
     "text": [
      "200.0\n"
     ]
    }
   ],
   "source": [
    "print(crypto_tokens[1][\"transaction_history\"][0][\"prices\"][\"close\"])"
   ]
  },
  {
   "cell_type": "markdown",
   "id": "b60742f9",
   "metadata": {},
   "source": [
    "### Q6 Update Nested Data\n",
    "#### Task: Change the opening price of  \"Token A\" on \"2024-01-10\" to 99.0"
   ]
  },
  {
   "cell_type": "code",
   "execution_count": 16,
   "id": "bc6b476c",
   "metadata": {},
   "outputs": [
    {
     "name": "stdout",
     "output_type": "stream",
     "text": [
      "{'name': 'Token A', 'symbol': 'TKA', 'blockchain': 'Ethereum', 'current_price_usd': 100.0, 'transaction_history': [{'date': '2024-01-10', 'prices': {'open': 99.0, 'close': 100.0, 'high': 101.0, 'low': 97.0}, 'volume': 12000}], 'supported_chains': ['Ethereum', 'Polygon']}\n"
     ]
    }
   ],
   "source": [
    "crypto_tokens[0][\"transaction_history\"][0][\"prices\"][\"open\"]= 99.0\n",
    "\n",
    "print(crypto_tokens[0])"
   ]
  },
  {
   "cell_type": "markdown",
   "id": "d808530b",
   "metadata": {},
   "source": [
    "### Q7 Add Nested Data\n",
    "#### Task: Add a new transaction history entry for \"Token C\" on \"2024-01-11\""
   ]
  },
  {
   "cell_type": "code",
   "execution_count": 19,
   "id": "6e2644ad",
   "metadata": {},
   "outputs": [
    {
     "name": "stdout",
     "output_type": "stream",
     "text": [
      "[{'date': '2024-01-10', 'prices': {'open': 295.0, 'close': 300.0, 'high': 302.0, 'low': 294.0}, 'volume': 22000}, {'date': '2024-01-09', 'prices': {'open': 294.0, 'close': 295.0, 'high': 296.0, 'low': 293.0}, 'volume': 21000}, {'date': '2024-01-08', 'prices': {'open': 98.0, 'close': 100.0, 'high': 101.0, 'low': 97.0}, 'volume': 12000}, {'date': '2024-01-08', 'prices': {'open': 98.0, 'close': 100.0, 'high': 101.0, 'low': 97.0}, 'volume': 12000}]\n"
     ]
    }
   ],
   "source": [
    "new_tx = {\n",
    "    \"date\": \"2024-01-08\",\n",
    "    \"prices\":{\n",
    "        \"open\":98.0,\n",
    "        \"close\":100.0,\n",
    "        \"high\": 101.0,\n",
    "        \"low\": 97.0\n",
    "    },\n",
    "    \"volume\": 12000\n",
    "}\n",
    "\n",
    "crypto_tokens[2][\"transaction_history\"].append(new_tx)\n",
    "\n",
    "print(crypto_tokens[2][\"transaction_history\"])"
   ]
  },
  {
   "cell_type": "markdown",
   "id": "e761bea0",
   "metadata": {},
   "source": [
    "### Q8: Delete an Item from a list inside a dictionary\n",
    "#### Task: Remove \"Avalanche\" from the supported chains of \"Token B\""
   ]
  },
  {
   "cell_type": "code",
   "execution_count": 20,
   "id": "ffea1799",
   "metadata": {},
   "outputs": [
    {
     "name": "stdout",
     "output_type": "stream",
     "text": [
      "['Binance Smart Chain']\n"
     ]
    }
   ],
   "source": [
    "crypto_tokens[1][\"supported_chains\"].pop(1)\n",
    "\n",
    "print(crypto_tokens[1][\"supported_chains\"])"
   ]
  }
 ],
 "metadata": {
  "kernelspec": {
   "display_name": "myenv",
   "language": "python",
   "name": "python3"
  },
  "language_info": {
   "codemirror_mode": {
    "name": "ipython",
    "version": 3
   },
   "file_extension": ".py",
   "mimetype": "text/x-python",
   "name": "python",
   "nbconvert_exporter": "python",
   "pygments_lexer": "ipython3",
   "version": "3.12.3"
  }
 },
 "nbformat": 4,
 "nbformat_minor": 5
}

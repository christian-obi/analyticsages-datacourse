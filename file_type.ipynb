{
 "cells": [
  {
   "cell_type": "markdown",
   "id": "ae76443c",
   "metadata": {},
   "source": [
    "#### working with different files (CSV, JSON)"
   ]
  },
  {
   "cell_type": "markdown",
   "id": "e771dcdb",
   "metadata": {},
   "source": [
    "##### reading and writing text files\n"
   ]
  },
  {
   "cell_type": "code",
   "execution_count": 5,
   "id": "153656d8",
   "metadata": {},
   "outputs": [
    {
     "name": "stdout",
     "output_type": "stream",
     "text": [
      "Hello world. \n",
      "appending words in a file. \n",
      "additional line. \n",
      "\n"
     ]
    }
   ],
   "source": [
    "# Working with text files in python (Reading mode)\n",
    "\n",
    "with open('sample.txt', 'r') as file: #opens the file in the read mode\n",
    "    content = file.read()   #read the entire content of the file\n",
    "    print(content)"
   ]
  },
  {
   "cell_type": "code",
   "execution_count": 2,
   "id": "47c7bd5d",
   "metadata": {},
   "outputs": [],
   "source": [
    "# Working with files in Python (Writing mode)\n",
    "\n",
    "with open('sample.txt', 'w') as file: #Opens a file in the write mode\n",
    "    file.write(\"Hello world. \\n\") # write in the file\n",
    "    "
   ]
  },
  {
   "cell_type": "code",
   "execution_count": 7,
   "id": "91e78923",
   "metadata": {},
   "outputs": [],
   "source": [
    "# Working with files in Python (Append mode)\n",
    "\n",
    "with open('sample.txt','a') as file: #opens file in append mode\n",
    "    file.write(\"appending words in a file. \\n\") #appends in a file\n",
    "    file.write(\"additional line. \\n\")\n"
   ]
  },
  {
   "cell_type": "code",
   "execution_count": null,
   "id": "34c9020d",
   "metadata": {},
   "outputs": [],
   "source": [
    "# working with files in python (read ad write)\n",
    "\n",
    "with open('sample.txt', 'r+') as file: #\n",
    "    content = file.read()\n",
    "    print(\"\")\n"
   ]
  },
  {
   "cell_type": "markdown",
   "id": "2519e039",
   "metadata": {},
   "source": [
    "### Working with CSV Files"
   ]
  },
  {
   "cell_type": "code",
   "execution_count": 8,
   "id": "c71691e6",
   "metadata": {},
   "outputs": [],
   "source": [
    "# working with csv files\n",
    "\n",
    "import csv\n",
    "\n",
    "with open(\"data.csv\", 'w', newline= '') as csvfile: #open file in write mode\n",
    "    add_details =csv.writer(csvfile)    #create the csv object\n",
    "    add_details.writerow(['name', 'age', 'city'])   #write header row\n",
    "    add_details.writerow(['alice', 30, 'NYC'])  #write data row\n",
    "    add_details.writerow(['bob', 25, 'cal'])    #also write data row"
   ]
  },
  {
   "cell_type": "code",
   "execution_count": 9,
   "id": "996f6e89",
   "metadata": {},
   "outputs": [
    {
     "name": "stdout",
     "output_type": "stream",
     "text": [
      "['name', 'age', 'city']\n",
      "['alice', '30', 'NYC']\n",
      "['bob', '25', 'cal']\n"
     ]
    }
   ],
   "source": [
    "# Working with CSV files\n",
    "import csv\n",
    "\n",
    "with open('data.csv', 'r') as csvfile: #Open file in read mode\n",
    "    read_file = csv.reader(csvfile)     #create a csv object\n",
    "    for row in read_file:               #iterate through each row in the csv fiel\n",
    "        print(row)"
   ]
  },
  {
   "cell_type": "code",
   "execution_count": 10,
   "id": "6e41d2f9",
   "metadata": {},
   "outputs": [
    {
     "name": "stdout",
     "output_type": "stream",
     "text": [
      "{'name': 'alice', 'age': '30', 'city': 'NYC'}\n",
      "{'name': 'bob', 'age': '25', 'city': 'cal'}\n"
     ]
    }
   ],
   "source": [
    "#working with CSV file\n",
    "\n",
    "# DictReader for reading csv file\n",
    "\n",
    "with open('data.csv', 'r') as csvfile:\n",
    "     dict_read = csv.DictReader(csvfile)\n",
    "     for  row in dict_read:\n",
    "          print(row)"
   ]
  },
  {
   "cell_type": "markdown",
   "id": "426f251e",
   "metadata": {},
   "source": [
    "#### Handling JSON files"
   ]
  },
  {
   "cell_type": "code",
   "execution_count": 11,
   "id": "a00df674",
   "metadata": {},
   "outputs": [],
   "source": [
    "import json\n",
    "\n",
    "# write json file\n",
    "\n",
    "details = {\n",
    "    'name': 'Alice',\n",
    "    'age': 24,\n",
    "    'city': 'NYC'\n",
    "}\n",
    "\n",
    "with open('data.json', 'w') as jsonfile:\n",
    "    json.dump(details, jsonfile, indent= 4 ) # write json data to the file with indentation"
   ]
  },
  {
   "cell_type": "code",
   "execution_count": 12,
   "id": "609866d5",
   "metadata": {},
   "outputs": [
    {
     "name": "stdout",
     "output_type": "stream",
     "text": [
      "{'name': 'Alice', 'age': 24, 'city': 'NYC'}\n"
     ]
    }
   ],
   "source": [
    "# Reading from json file\n",
    "\n",
    "with open('data.json', 'r') as jsonfile:\n",
    "    details= json.load(jsonfile)\n",
    "    print(details)"
   ]
  },
  {
   "cell_type": "code",
   "execution_count": 15,
   "id": "966fce1a",
   "metadata": {},
   "outputs": [
    {
     "name": "stdout",
     "output_type": "stream",
     "text": [
      "{'name': 'Alice', 'age': 24, 'city': 'NYC'}\n"
     ]
    }
   ],
   "source": [
    "json_string = '{\"name\": \"Alice\", \"age\": 24, \"city\": \"NYC\"}'\n",
    "data = json.loads(json_string)   #Parse json string into python dict\n",
    "print(data)"
   ]
  },
  {
   "cell_type": "code",
   "execution_count": null,
   "id": "d3e5938a",
   "metadata": {},
   "outputs": [],
   "source": [
    "# Use dump to convert python object to json string\n",
    "\n"
   ]
  }
 ],
 "metadata": {
  "kernelspec": {
   "display_name": "myenv",
   "language": "python",
   "name": "python3"
  },
  "language_info": {
   "codemirror_mode": {
    "name": "ipython",
    "version": 3
   },
   "file_extension": ".py",
   "mimetype": "text/x-python",
   "name": "python",
   "nbconvert_exporter": "python",
   "pygments_lexer": "ipython3",
   "version": "3.12.3"
  }
 },
 "nbformat": 4,
 "nbformat_minor": 5
}
